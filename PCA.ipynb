{
 "cells": [
  {
   "cell_type": "markdown",
   "id": "1a00c042-14d8-4922-866f-5ff8fe43dc27",
   "metadata": {},
   "source": [
    "# Data Mining II - Task II - Cory Wilson"
   ]
  },
  {
   "cell_type": "code",
   "execution_count": 25,
   "id": "c268486c",
   "metadata": {},
   "outputs": [],
   "source": [
    "### Initial imports and dataframe creation\n",
    "### Importing required packages\n",
    "import numpy as np\n",
    "import pandas as pd\n",
    "from sklearn.decomposition import PCA\n",
    "import matplotlib.pyplot as plt\n",
    "import seaborn as sns\n",
    "from sklearn.preprocessing import StandardScaler\n",
    "from yellowbrick.cluster import KElbowVisualizer\n",
    "from sklearn.pipeline import Pipeline\n",
    "pd.options.display.float_format = '{:.5f}'.format\n",
    "pd.options.display.max_columns = None\n",
    "\n",
    "### Creating initial data set from the Churn CSV\n",
    "data = pd.read_csv('churn_clean.csv')"
   ]
  },
  {
   "cell_type": "markdown",
   "id": "83bea652-b199-465b-a59c-c608d36fe702",
   "metadata": {},
   "source": [
    "## Part I"
   ]
  },
  {
   "cell_type": "markdown",
   "id": "bd55ec0f-06f8-4ac2-aa18-1fd54c8786a3",
   "metadata": {},
   "source": [
    "### A. 1."
   ]
  },
  {
   "cell_type": "markdown",
   "id": "7ef9c437-9071-4d59-829e-16ad683e5772",
   "metadata": {},
   "source": [
    "Can features be reduced in such a way that algorithms run more efficiently and allow for more plotting options?"
   ]
  },
  {
   "cell_type": "markdown",
   "id": "8875fce3-827c-46c1-a482-cc6e7188b831",
   "metadata": {},
   "source": [
    "### A. 2."
   ]
  },
  {
   "cell_type": "markdown",
   "id": "a5a00db4-61c5-4531-b20b-b0349cc1f576",
   "metadata": {},
   "source": [
    "The goal of this analysis is to perform dimensional reduction on the data set. This will allow algorithms to run more quickly and efficiently while also reducing the number of features in the data set. This will allow for better options with plotting as well."
   ]
  },
  {
   "cell_type": "markdown",
   "id": "ebfc8d0a-de96-4499-b38e-deeffbed0bce",
   "metadata": {},
   "source": [
    "## Part II"
   ]
  },
  {
   "cell_type": "markdown",
   "id": "8ade323a-d593-4a05-99c3-7ef42cb786b5",
   "metadata": {},
   "source": [
    "### B. 1."
   ]
  },
  {
   "cell_type": "markdown",
   "id": "ece97811",
   "metadata": {},
   "source": [
    "PCA starts by converting a data set into a matrix. Then, the process of finding the mean of that matrix occurs. A covariance matrix is created for the whole data set. This matrix is similar to what we see in section D. 2. Once the covariance matrix is formed the process of finding eigenvectors and eigenvalues beings. While the math behind finding eigenvectors and eigenvalues is somewhat complex, the process is there to simply find the variance expressed by each eigenvector. PCA through SkLearn returns a variety of information when run on a data set, the most important information returned are the principal components themselves. (Alto, 2019)"
   ]
  },
  {
   "cell_type": "markdown",
   "id": "d33cf78e-be6e-47c7-b849-353bac686906",
   "metadata": {},
   "source": [
    "### B. 2."
   ]
  },
  {
   "cell_type": "markdown",
   "id": "9477abd7",
   "metadata": {},
   "source": [
    "One assumption that PCA makes about the data is that it must be linear in nature. This means that the features must have linear relationships amongst themselves. With this data set, previous analysis has shown that this is the case. (Vadapalli, 2020)"
   ]
  },
  {
   "cell_type": "markdown",
   "id": "ca3acbfe-2abe-403e-9619-173aa7f7ab9c",
   "metadata": {},
   "source": [
    "## Part III"
   ]
  },
  {
   "cell_type": "markdown",
   "id": "16e63f14-d182-4c8a-8005-13c574b5a92e",
   "metadata": {},
   "source": [
    "### C. 1."
   ]
  },
  {
   "cell_type": "markdown",
   "id": "8c243a6b",
   "metadata": {},
   "source": [
    "Continuous variables that will be included:\n",
    "- Children \n",
    "- Age \n",
    "- Income \n",
    "- Outage_sec_perweek \n",
    "- Email \n",
    "- Contacts \n",
    "- Yearly_equip_failure \n",
    "- Tenure \n",
    "- MonthlyCharge \n",
    "- Bandwidth_GB_Year "
   ]
  },
  {
   "cell_type": "markdown",
   "id": "2f2cdeeb-a0f0-40b0-a3fb-64f0f7838902",
   "metadata": {},
   "source": [
    "### C. 2."
   ]
  },
  {
   "cell_type": "code",
   "execution_count": 3,
   "id": "1fb4b8c8-5892-4051-a2e5-f18bacdcf6b2",
   "metadata": {},
   "outputs": [],
   "source": [
    "### Dropping columns that aren't required for clustering\n",
    "clean_data = data.drop(columns=['CaseOrder','Customer_id',\n",
    "                                'Interaction','Churn','UID','Population',\n",
    "                                'Zip','Job','City','Lat','Lng','State',\n",
    "                                'County','TimeZone','item1','item2',\n",
    "                                'item3','item4','item5','item6','item7',\n",
    "                                'item8','Area','Marital','Gender',\n",
    "                                'Techie','Contract','Port_modem',\n",
    "                                'Tablet','InternetService','Phone',\n",
    "                                'Multiple','OnlineSecurity',\n",
    "                                'OnlineBackup','DeviceProtection',\n",
    "                                'TechSupport','StreamingTV',\n",
    "                                'StreamingMovies','PaperlessBilling',\n",
    "                                'PaymentMethod'])\n",
    "\n",
    "### Creating a scaler object and scaling the data to make it more uniformed\n",
    "scaler = StandardScaler()\n",
    "scaled_data = scaler.fit_transform(clean_data)\n",
    "\n",
    "### Saving a copy of the cleaned data set.\n",
    "clean_data.to_csv('D212 Task 2 Clean Data.csv')"
   ]
  },
  {
   "cell_type": "markdown",
   "id": "60ee8daf-bebd-4e52-93c5-0d18e8737e6e",
   "metadata": {},
   "source": [
    "## Part IV"
   ]
  },
  {
   "cell_type": "markdown",
   "id": "80d969c8-86af-437a-a7e1-1f96dab01c0f",
   "metadata": {},
   "source": [
    "### D. 1."
   ]
  },
  {
   "cell_type": "markdown",
   "id": "aea87334",
   "metadata": {},
   "source": [
    "The code below presents a covariance matrix and heat plot of the matrix with all principle components."
   ]
  },
  {
   "cell_type": "code",
   "execution_count": 20,
   "id": "bd364ac8-b8a1-41f3-b643-d5a7da454a83",
   "metadata": {},
   "outputs": [
    {
     "name": "stdout",
     "output_type": "stream",
     "text": [
      "[[ 1.00010001 -0.02973451  0.00994335  0.00191611  0.00447925 -0.02077811\n",
      "   0.00732132 -0.00509183 -0.00978238  0.02558738]\n",
      " [-0.02973451  1.00010001 -0.00409101 -0.00799559  0.00158808  0.01506913\n",
      "   0.00857821  0.01698097  0.01072958 -0.01472512]\n",
      " [ 0.00994335 -0.00409101  1.00010001 -0.00989    -0.00926842  0.00123332\n",
      "   0.00542382  0.00211458 -0.00301427  0.00367392]\n",
      " [ 0.00191611 -0.00799559 -0.00989     1.00010001  0.0040835   0.01516813\n",
      "   0.00298848  0.00288075  0.02044865  0.00412502]\n",
      " [ 0.00447925  0.00158808 -0.00926842  0.0040835   1.00010001  0.00304067\n",
      "  -0.01635598 -0.01446932  0.00199675 -0.01458061]\n",
      " [-0.02077811  0.01506913  0.00123332  0.01516813  0.00304067  1.00010001\n",
      "  -0.00603285  0.00282037  0.00425907  0.00329905]\n",
      " [ 0.00732132  0.00857821  0.00542382  0.00298848 -0.01635598 -0.00603285\n",
      "   1.00010001  0.01243615 -0.00717299  0.0120349 ]\n",
      " [-0.00509183  0.01698097  0.00211458  0.00288075 -0.01446932  0.00282037\n",
      "   0.01243615  1.00010001 -0.00333714  0.99159435]\n",
      " [-0.00978238  0.01072958 -0.00301427  0.02044865  0.00199675  0.00425907\n",
      "  -0.00717299 -0.00333714  1.00010001  0.06041247]\n",
      " [ 0.02558738 -0.01472512  0.00367392  0.00412502 -0.01458061  0.00329905\n",
      "   0.0120349   0.99159435  0.06041247  1.00010001]]\n"
     ]
    },
    {
     "data": {
      "text/plain": [
       "<AxesSubplot:>"
      ]
     },
     "execution_count": 20,
     "metadata": {},
     "output_type": "execute_result"
    },
    {
     "data": {
      "image/png": "[encoded data removed]",
      "text/plain": [
       "<Figure size 576x396 with 2 Axes>"
      ]
     },
     "metadata": {},
     "output_type": "display_data"
    }
   ],
   "source": [
    "features = scaled_data.T\n",
    "matrix = np.cov(features)\n",
    "print(matrix)\n",
    "sns.heatmap(matrix)"
   ]
  },
  {
   "cell_type": "markdown",
   "id": "9a53402e-f9ff-4d44-bb25-80f1d447750c",
   "metadata": {},
   "source": [
    "### D. 2."
   ]
  },
  {
   "cell_type": "markdown",
   "id": "ad9b5763",
   "metadata": {},
   "source": [
    "The two code blocks below run the PCA on the scaled data and display an elbow plot. To be able to retain at least 80% of the variance, 7 principal components will work. Additionally, to retain at least 90% of the data 8 components should be used."
   ]
  },
  {
   "cell_type": "code",
   "execution_count": 21,
   "id": "30677007",
   "metadata": {},
   "outputs": [
    {
     "data": {
      "text/html": [
       "<div>\n",
       "<style scoped>\n",
       "    .dataframe tbody tr th:only-of-type {\n",
       "        vertical-align: middle;\n",
       "    }\n",
       "\n",
       "    .dataframe tbody tr th {\n",
       "        vertical-align: top;\n",
       "    }\n",
       "\n",
       "    .dataframe thead th {\n",
       "        text-align: right;\n",
       "    }\n",
       "</style>\n",
       "<table border=\"1\" class=\"dataframe\">\n",
       "  <thead>\n",
       "    <tr style=\"text-align: right;\">\n",
       "      <th></th>\n",
       "      <th>0</th>\n",
       "      <th>1</th>\n",
       "      <th>2</th>\n",
       "      <th>3</th>\n",
       "      <th>4</th>\n",
       "      <th>5</th>\n",
       "      <th>6</th>\n",
       "      <th>7</th>\n",
       "      <th>8</th>\n",
       "      <th>9</th>\n",
       "    </tr>\n",
       "  </thead>\n",
       "  <tbody>\n",
       "    <tr>\n",
       "      <th>0</th>\n",
       "      <td>0.01413</td>\n",
       "      <td>0.00171</td>\n",
       "      <td>0.00436</td>\n",
       "      <td>0.00581</td>\n",
       "      <td>-0.02078</td>\n",
       "      <td>0.00417</td>\n",
       "      <td>0.01757</td>\n",
       "      <td>0.70542</td>\n",
       "      <td>0.04042</td>\n",
       "      <td>0.70692</td>\n",
       "    </tr>\n",
       "    <tr>\n",
       "      <th>1</th>\n",
       "      <td>-0.55945</td>\n",
       "      <td>0.48012</td>\n",
       "      <td>-0.22341</td>\n",
       "      <td>0.21212</td>\n",
       "      <td>0.10722</td>\n",
       "      <td>0.45907</td>\n",
       "      <td>-0.14319</td>\n",
       "      <td>0.00188</td>\n",
       "      <td>0.34465</td>\n",
       "      <td>-0.00792</td>\n",
       "    </tr>\n",
       "    <tr>\n",
       "      <th>2</th>\n",
       "      <td>-0.28548</td>\n",
       "      <td>0.42134</td>\n",
       "      <td>0.26603</td>\n",
       "      <td>-0.47857</td>\n",
       "      <td>-0.44067</td>\n",
       "      <td>0.01254</td>\n",
       "      <td>0.39556</td>\n",
       "      <td>0.02099</td>\n",
       "      <td>-0.29922</td>\n",
       "      <td>-0.01971</td>\n",
       "    </tr>\n",
       "    <tr>\n",
       "      <th>3</th>\n",
       "      <td>0.14309</td>\n",
       "      <td>-0.09000</td>\n",
       "      <td>0.16996</td>\n",
       "      <td>0.57983</td>\n",
       "      <td>-0.45064</td>\n",
       "      <td>0.10750</td>\n",
       "      <td>0.53096</td>\n",
       "      <td>-0.04167</td>\n",
       "      <td>0.32848</td>\n",
       "      <td>-0.01273</td>\n",
       "    </tr>\n",
       "    <tr>\n",
       "      <th>4</th>\n",
       "      <td>0.03058</td>\n",
       "      <td>-0.15891</td>\n",
       "      <td>0.78651</td>\n",
       "      <td>-0.02731</td>\n",
       "      <td>-0.00359</td>\n",
       "      <td>0.46564</td>\n",
       "      <td>-0.37010</td>\n",
       "      <td>-0.00458</td>\n",
       "      <td>0.02493</td>\n",
       "      <td>0.00463</td>\n",
       "    </tr>\n",
       "    <tr>\n",
       "      <th>5</th>\n",
       "      <td>-0.05898</td>\n",
       "      <td>0.12062</td>\n",
       "      <td>0.21063</td>\n",
       "      <td>-0.24240</td>\n",
       "      <td>-0.16014</td>\n",
       "      <td>-0.54790</td>\n",
       "      <td>-0.23092</td>\n",
       "      <td>-0.03721</td>\n",
       "      <td>0.70590</td>\n",
       "      <td>0.00262</td>\n",
       "    </tr>\n",
       "    <tr>\n",
       "      <th>6</th>\n",
       "      <td>0.28529</td>\n",
       "      <td>0.40773</td>\n",
       "      <td>0.29769</td>\n",
       "      <td>-0.00486</td>\n",
       "      <td>0.68576</td>\n",
       "      <td>-0.04940</td>\n",
       "      <td>0.42071</td>\n",
       "      <td>-0.00445</td>\n",
       "      <td>0.11830</td>\n",
       "      <td>-0.00082</td>\n",
       "    </tr>\n",
       "    <tr>\n",
       "      <th>7</th>\n",
       "      <td>0.64723</td>\n",
       "      <td>0.20822</td>\n",
       "      <td>-0.30150</td>\n",
       "      <td>-0.36740</td>\n",
       "      <td>-0.22794</td>\n",
       "      <td>0.43944</td>\n",
       "      <td>-0.07758</td>\n",
       "      <td>-0.02974</td>\n",
       "      <td>0.24472</td>\n",
       "      <td>-0.00025</td>\n",
       "    </tr>\n",
       "    <tr>\n",
       "      <th>8</th>\n",
       "      <td>-0.28226</td>\n",
       "      <td>-0.57788</td>\n",
       "      <td>-0.08906</td>\n",
       "      <td>-0.44186</td>\n",
       "      <td>0.20719</td>\n",
       "      <td>0.25487</td>\n",
       "      <td>0.40925</td>\n",
       "      <td>-0.02222</td>\n",
       "      <td>0.32751</td>\n",
       "      <td>0.00908</td>\n",
       "    </tr>\n",
       "    <tr>\n",
       "      <th>9</th>\n",
       "      <td>-0.02159</td>\n",
       "      <td>0.02237</td>\n",
       "      <td>-0.00094</td>\n",
       "      <td>0.00028</td>\n",
       "      <td>0.00025</td>\n",
       "      <td>-0.00094</td>\n",
       "      <td>-0.00010</td>\n",
       "      <td>-0.70526</td>\n",
       "      <td>-0.04575</td>\n",
       "      <td>0.70678</td>\n",
       "    </tr>\n",
       "  </tbody>\n",
       "</table>\n",
       "</div>"
      ],
      "text/plain": [
       "         0        1        2        3        4        5        6        7  \\\n",
       "0  0.01413  0.00171  0.00436  0.00581 -0.02078  0.00417  0.01757  0.70542   \n",
       "1 -0.55945  0.48012 -0.22341  0.21212  0.10722  0.45907 -0.14319  0.00188   \n",
       "2 -0.28548  0.42134  0.26603 -0.47857 -0.44067  0.01254  0.39556  0.02099   \n",
       "3  0.14309 -0.09000  0.16996  0.57983 -0.45064  0.10750  0.53096 -0.04167   \n",
       "4  0.03058 -0.15891  0.78651 -0.02731 -0.00359  0.46564 -0.37010 -0.00458   \n",
       "5 -0.05898  0.12062  0.21063 -0.24240 -0.16014 -0.54790 -0.23092 -0.03721   \n",
       "6  0.28529  0.40773  0.29769 -0.00486  0.68576 -0.04940  0.42071 -0.00445   \n",
       "7  0.64723  0.20822 -0.30150 -0.36740 -0.22794  0.43944 -0.07758 -0.02974   \n",
       "8 -0.28226 -0.57788 -0.08906 -0.44186  0.20719  0.25487  0.40925 -0.02222   \n",
       "9 -0.02159  0.02237 -0.00094  0.00028  0.00025 -0.00094 -0.00010 -0.70526   \n",
       "\n",
       "         8        9  \n",
       "0  0.04042  0.70692  \n",
       "1  0.34465 -0.00792  \n",
       "2 -0.29922 -0.01971  \n",
       "3  0.32848 -0.01273  \n",
       "4  0.02493  0.00463  \n",
       "5  0.70590  0.00262  \n",
       "6  0.11830 -0.00082  \n",
       "7  0.24472 -0.00025  \n",
       "8  0.32751  0.00908  \n",
       "9 -0.04575  0.70678  "
      ]
     },
     "execution_count": 21,
     "metadata": {},
     "output_type": "execute_result"
    }
   ],
   "source": [
    "pca = PCA()\n",
    "ran_pca = pca.fit(scaled_data)\n",
    "\n",
    "pca_df = pd.DataFrame(ran_pca.components_)\n",
    "pca_df"
   ]
  },
  {
   "cell_type": "code",
   "execution_count": 22,
   "id": "35546c85",
   "metadata": {},
   "outputs": [
    {
     "data": {
      "image/png": "[encoded data removed]",
      "text/plain": [
       "<Figure size 576x396 with 1 Axes>"
      ]
     },
     "metadata": {},
     "output_type": "display_data"
    }
   ],
   "source": [
    "# Plot the explained variance ratio\n",
    "plt.plot(ran_pca.explained_variance_ratio_)\n",
    "\n",
    "plt.xlabel('Principal component index')\n",
    "plt.ylabel('Explained variance ratio')\n",
    "plt.show()"
   ]
  },
  {
   "cell_type": "markdown",
   "id": "57a719e0",
   "metadata": {},
   "source": [
    "### D. 3."
   ]
  },
  {
   "cell_type": "markdown",
   "id": "7de13918",
   "metadata": {},
   "source": [
    "The array below shows the variance of each individual component. The first component explains 0.1994 or 19.94% of the variance."
   ]
  },
  {
   "cell_type": "code",
   "execution_count": 23,
   "id": "a4468db7",
   "metadata": {},
   "outputs": [
    {
     "data": {
      "text/plain": [
       "array([0.19941328, 0.10532287, 0.10273989, 0.10124756, 0.09996907,\n",
       "       0.09937176, 0.09889587, 0.09646805, 0.09602493, 0.00054672])"
      ]
     },
     "execution_count": 23,
     "metadata": {},
     "output_type": "execute_result"
    }
   ],
   "source": [
    "ran_pca.explained_variance_ratio_"
   ]
  },
  {
   "cell_type": "markdown",
   "id": "7bf53880",
   "metadata": {},
   "source": [
    "### D. 4."
   ]
  },
  {
   "cell_type": "markdown",
   "id": "049a9ce5",
   "metadata": {},
   "source": [
    "The array below shows the cumulative sum of all principal components. This array starts with PC1 and adds each additional PC. These 8 components explain .903 or 90.3% of the variance."
   ]
  },
  {
   "cell_type": "code",
   "execution_count": 24,
   "id": "c283b4ea",
   "metadata": {},
   "outputs": [
    {
     "data": {
      "text/plain": [
       "array([0.19941328, 0.30473615, 0.40747604, 0.5087236 , 0.60869267,\n",
       "       0.70806443, 0.8069603 , 0.90342836, 0.99945328, 1.        ])"
      ]
     },
     "execution_count": 24,
     "metadata": {},
     "output_type": "execute_result"
    }
   ],
   "source": [
    "ran_pca.explained_variance_ratio_.cumsum()"
   ]
  },
  {
   "cell_type": "markdown",
   "id": "d06e55f3",
   "metadata": {},
   "source": [
    "### D. 5."
   ]
  },
  {
   "cell_type": "markdown",
   "id": "169e81d1",
   "metadata": {},
   "source": [
    "The main takeaway from this analysis is that number of features can be slightly reduced while still retaining a large amount of the variance. One item of note is that only continuous variables were used, leading me to question if some of the categorical variables in addition to these would allow for even more of the variance to be retained with a smaller number of PCs."
   ]
  },
  {
   "cell_type": "markdown",
   "id": "2a4cbf24-8074-41cd-89dd-e5a9ab71545f",
   "metadata": {},
   "source": [
    "## Part V"
   ]
  },
  {
   "cell_type": "markdown",
   "id": "9eb24857-016c-4ed3-a5a8-322405566047",
   "metadata": {},
   "source": [
    "### E. 1."
   ]
  },
  {
   "cell_type": "markdown",
   "id": "12df9ea4",
   "metadata": {},
   "source": [
    "## References\n",
    "Vadapalli, P. (2020, November 12). PCA in Machine Learning: Assumptions, steps to apply &amp; applications. upGrad blog. Retrieved October 13, 2021, from https://www.upgrad.com/blog/pca-in-machine-learning/#Assumptions_in_PCA.\n",
    "    \n",
    "Alto, V. (2019, July 13). PCA: Eigenvectors and eigenvalues. Medium. Retrieved October 18, 2021, from https://towardsdatascience.com/pca-eigenvectors-and-eigenvalues-1f968bc6777a. "
   ]
  }
 ],
 "metadata": {
  "kernelspec": {
   "display_name": "Python 3 (ipykernel)",
   "language": "python",
   "name": "python3"
  },
  "language_info": {
   "codemirror_mode": {
    "name": "ipython",
    "version": 3
   },
   "file_extension": ".py",
   "mimetype": "text/x-python",
   "name": "python",
   "nbconvert_exporter": "python",
   "pygments_lexer": "ipython3",
   "version": "3.9.5"
  }
 },
 "nbformat": 4,
 "nbformat_minor": 5
}