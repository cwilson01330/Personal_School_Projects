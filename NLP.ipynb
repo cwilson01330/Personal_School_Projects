{
 "cells": [
  {
   "cell_type": "markdown",
   "metadata": {},
   "source": [
    "## NLP - Cory Wilson"
   ]
  },
  {
   "cell_type": "markdown",
   "metadata": {},
   "source": [
    "### Part I: Research Question"
   ]
  },
  {
   "cell_type": "markdown",
   "metadata": {},
   "source": [
    "#### A. Describe the purpose of this data analysis"
   ]
  },
  {
   "cell_type": "markdown",
   "metadata": {},
   "source": [
    "#### Basic Setup"
   ]
  },
  {
   "cell_type": "code",
   "execution_count": 25,
   "metadata": {},
   "outputs": [
    {
     "name": "stderr",
     "output_type": "stream",
     "text": [
      "[nltk_data] Downloading package stopwords to\n",
      "[nltk_data]     /Users/thewilsons/nltk_data...\n",
      "[nltk_data]   Package stopwords is already up-to-date!\n",
      "[nltk_data] Downloading package punkt to\n",
      "[nltk_data]     /Users/thewilsons/nltk_data...\n",
      "[nltk_data]   Package punkt is already up-to-date!\n",
      "[nltk_data] Downloading package wordnet to\n",
      "[nltk_data]     /Users/thewilsons/nltk_data...\n",
      "[nltk_data]   Package wordnet is already up-to-date!\n",
      "[nltk_data] Downloading package omw-1.4 to\n",
      "[nltk_data]     /Users/thewilsons/nltk_data...\n",
      "[nltk_data]   Package omw-1.4 is already up-to-date!\n"
     ]
    }
   ],
   "source": [
    "# Imports\n",
    "\n",
    "import pandas as pd\n",
    "import seaborn as sns\n",
    "import matplotlib.pyplot as plt\n",
    "import numpy as np\n",
    "import nltk\n",
    "\n",
    "from sklearn.model_selection import train_test_split\n",
    "\n",
    "import tensorflow\n",
    "from tensorflow import keras\n",
    "from keras import preprocessing\n",
    "\n",
    "from tensorflow.keras.preprocessing.text import Tokenizer\n",
    "from tensorflow.keras.preprocessing.sequence import pad_sequences\n",
    "from tensorflow.keras.callbacks import EarlyStopping\n",
    "from tensorflow.keras.models import load_model\n",
    "\n",
    "from nltk.tokenize import word_tokenize\n",
    "from nltk.corpus import stopwords\n",
    "\n",
    "nltk.download('stopwords')\n",
    "nltk.download('punkt')\n",
    "nltk.download('wordnet')\n",
    "nltk.download('omw-1.4')\n",
    "import re\n",
    "\n",
    "pd.set_option('display.max_colwidth',5000)\n"
   ]
  },
  {
   "cell_type": "code",
   "execution_count": 26,
   "metadata": {},
   "outputs": [],
   "source": [
    "# Creation of dataframe from the 3 seperate text files.\n",
    "df_a = pd.read_csv('amazon_cells_labelled.txt',names=['review','label'],delimiter='\\t', header=None)\n",
    "df_i = pd.read_csv('imdb_labelled.txt',names=['review','label'],delimiter='\\t', header=None)\n",
    "df_y = pd.read_csv('yelp_labelled.txt',names=['review','label'],delimiter='\\t', header=None)\n",
    "df = pd.concat([df_a,df_i,df_y])"
   ]
  },
  {
   "cell_type": "markdown",
   "metadata": {},
   "source": [
    "#### 1. Sumamrize one research question"
   ]
  },
  {
   "cell_type": "markdown",
   "metadata": {},
   "source": [
    "Can customer sentiment be predicted from a review of a product? "
   ]
  },
  {
   "cell_type": "markdown",
   "metadata": {},
   "source": [
    "#### 2. Define goals or objectives of the data analysis."
   ]
  },
  {
   "cell_type": "markdown",
   "metadata": {},
   "source": [
    "The goal of this analysis will to be to determine if customer sentiment can be derived from a review. We will use a dataset of reviews from Amazon.com to build and test our model. This type of analysis could be crucial in customer service. It could aid customer service representatives in determining if a customer is happy or not and help them know how to reach out to to fix issues."
   ]
  },
  {
   "cell_type": "markdown",
   "metadata": {},
   "source": [
    "#### 3. Indentify neural network"
   ]
  },
  {
   "cell_type": "markdown",
   "metadata": {},
   "source": [
    "The neural network being used for this analysis is a sequential network from the Keras library of Tensorflow. The type of model being used will be the sequential."
   ]
  },
  {
   "cell_type": "markdown",
   "metadata": {},
   "source": [
    "### Part II: Data Preparation"
   ]
  },
  {
   "cell_type": "markdown",
   "metadata": {},
   "source": [
    "#### B. Summarize the data cleaning process"
   ]
  },
  {
   "cell_type": "markdown",
   "metadata": {},
   "source": [
    "#### 1. Perform exploratory data analysis"
   ]
  },
  {
   "cell_type": "code",
   "execution_count": 27,
   "metadata": {},
   "outputs": [
    {
     "data": {
      "text/html": [
       "<div>\n",
       "<style scoped>\n",
       "    .dataframe tbody tr th:only-of-type {\n",
       "        vertical-align: middle;\n",
       "    }\n",
       "\n",
       "    .dataframe tbody tr th {\n",
       "        vertical-align: top;\n",
       "    }\n",
       "\n",
       "    .dataframe thead th {\n",
       "        text-align: right;\n",
       "    }\n",
       "</style>\n",
       "<table border=\"1\" class=\"dataframe\">\n",
       "  <thead>\n",
       "    <tr style=\"text-align: right;\">\n",
       "      <th></th>\n",
       "      <th>label</th>\n",
       "    </tr>\n",
       "  </thead>\n",
       "  <tbody>\n",
       "    <tr>\n",
       "      <th>count</th>\n",
       "      <td>2748.000000</td>\n",
       "    </tr>\n",
       "    <tr>\n",
       "      <th>mean</th>\n",
       "      <td>0.504367</td>\n",
       "    </tr>\n",
       "    <tr>\n",
       "      <th>std</th>\n",
       "      <td>0.500072</td>\n",
       "    </tr>\n",
       "    <tr>\n",
       "      <th>min</th>\n",
       "      <td>0.000000</td>\n",
       "    </tr>\n",
       "    <tr>\n",
       "      <th>25%</th>\n",
       "      <td>0.000000</td>\n",
       "    </tr>\n",
       "    <tr>\n",
       "      <th>50%</th>\n",
       "      <td>1.000000</td>\n",
       "    </tr>\n",
       "    <tr>\n",
       "      <th>75%</th>\n",
       "      <td>1.000000</td>\n",
       "    </tr>\n",
       "    <tr>\n",
       "      <th>max</th>\n",
       "      <td>1.000000</td>\n",
       "    </tr>\n",
       "  </tbody>\n",
       "</table>\n",
       "</div>"
      ],
      "text/plain": [
       "             label\n",
       "count  2748.000000\n",
       "mean      0.504367\n",
       "std       0.500072\n",
       "min       0.000000\n",
       "25%       0.000000\n",
       "50%       1.000000\n",
       "75%       1.000000\n",
       "max       1.000000"
      ]
     },
     "execution_count": 27,
     "metadata": {},
     "output_type": "execute_result"
    }
   ],
   "source": [
    "df.describe()"
   ]
  },
  {
   "cell_type": "code",
   "execution_count": 28,
   "metadata": {},
   "outputs": [
    {
     "data": {
      "text/plain": [
       "2748"
      ]
     },
     "execution_count": 28,
     "metadata": {},
     "output_type": "execute_result"
    }
   ],
   "source": [
    "# Drop the rows with missing values\n",
    "df = df.dropna()\n",
    "# Count the rows in the dataframe\n",
    "len(df)\n"
   ]
  },
  {
   "cell_type": "code",
   "execution_count": 29,
   "metadata": {},
   "outputs": [
    {
     "data": {
      "text/plain": [
       "(2748, 2)"
      ]
     },
     "execution_count": 29,
     "metadata": {},
     "output_type": "execute_result"
    }
   ],
   "source": [
    "# Check the shape of the dataframe\n",
    "df.shape"
   ]
  },
  {
   "cell_type": "code",
   "execution_count": 30,
   "metadata": {},
   "outputs": [
    {
     "name": "stderr",
     "output_type": "stream",
     "text": [
      "/Users/thewilsons/miniforge3/envs/mlp/lib/python3.8/site-packages/seaborn/_decorators.py:36: FutureWarning: Pass the following variable as a keyword arg: x. From version 0.12, the only valid positional argument will be `data`, and passing other arguments without an explicit keyword will result in an error or misinterpretation.\n",
      "  warnings.warn(\n"
     ]
    },
    {
     "data": {
      "text/plain": [
       "<AxesSubplot:xlabel='label', ylabel='count'>"
      ]
     },
     "execution_count": 30,
     "metadata": {},
     "output_type": "execute_result"
    },
    {
     "data": {
      "image/png": "[encoded data removed]",
      "text/plain": [
       "<Figure size 432x288 with 1 Axes>"
      ]
     },
     "metadata": {
      "needs_background": "light"
     },
     "output_type": "display_data"
    }
   ],
   "source": [
    "# Create a graph of the 'overall' column by count of each rating\n",
    "\n",
    "sns.countplot(df['label'])"
   ]
  },
  {
   "cell_type": "code",
   "execution_count": 31,
   "metadata": {},
   "outputs": [
    {
     "name": "stdout",
     "output_type": "stream",
     "text": [
      "['S', 'o', ' ', 't', 'h', 'e', 'r', 'i', 's', 'n', 'w', 'a', 'y', 'f', 'm', 'p', 'l', 'u', 'g', 'U', 'I', 'b', 'c', 'v', '.', 'G', 'd', ',', 'E', 'x', 'j', 'T', '4', '5', 'M', 'A', 'J', 'O', 'R', 'P', 'B', 'L', '!', 'z', 'N', 'W', 'q', 'H', '+', 'V', '\"', 'Y', 'D', 'F', 'k', \"'\", 'K', 'C', '/', '7', '3', '6', '8', '0', '2', '?', 'Z', '-', '1', ':', ')', '(', 'Q', '&', '$', '*', ';', 'X', '%', '9', '#', '[', ']', '\\x96', '\\t', '\\n', 'é', '\\x85', 'å', '\\x97', 'ê']\n"
     ]
    }
   ],
   "source": [
    "# Unusual Characters Discovery\n",
    "\n",
    "list_of_characters = []\n",
    "for review in df.review:\n",
    "    for character in review:\n",
    "        if character not in list_of_characters:\n",
    "            list_of_characters.append(character)\n",
    "print(list_of_characters)"
   ]
  },
  {
   "cell_type": "code",
   "execution_count": 32,
   "metadata": {},
   "outputs": [
    {
     "name": "stdout",
     "output_type": "stream",
     "text": [
      "The total number of different words used in the reviews is: 5272\n"
     ]
    }
   ],
   "source": [
    "# Vocabulary Size\n",
    "\n",
    "tokenizer = Tokenizer()\n",
    "tokenizer.fit_on_texts(df['review'])\n",
    "print(f\"The total number of different words used in the reviews is:\", len(tokenizer.word_index)+1)"
   ]
  },
  {
   "cell_type": "markdown",
   "metadata": {},
   "source": [
    "The vocabulary size of the model will be set at 6000."
   ]
  },
  {
   "cell_type": "markdown",
   "metadata": {},
   "source": [
    "The proposed word embedding length is 16. While the maximum sequence length will be set to 120."
   ]
  },
  {
   "cell_type": "markdown",
   "metadata": {},
   "source": [
    "#### 2. Describe the goals of the tokenization process."
   ]
  },
  {
   "cell_type": "markdown",
   "metadata": {},
   "source": [
    "Tokenization is a vital part of natural language processing. Simply put, it is the process of breaking sentences or words into simpler pieces or tokens. The main goal behind it is to make the data more suitable for machine learning. (Sucky, 2021)"
   ]
  },
  {
   "cell_type": "code",
   "execution_count": 9,
   "metadata": {},
   "outputs": [],
   "source": [
    "stop_words = stopwords.words('english')\n",
    "\n",
    "review_list = []\n",
    "for words in df.review:\n",
    "    words = re.sub(\"[^a-zA-Z]\", \" \", words)\n",
    "\n",
    "    words = words.lower()\n",
    "\n",
    "    words = nltk.word_tokenize(words)\n",
    "\n",
    "    lemma = nltk.WordNetLemmatizer()\n",
    "    words = [lemma.lemmatize(word) for word in words]\n",
    "\n",
    "    words = [word for word in words if not word in stop_words]\n",
    "    words = \" \".join(words)\n",
    "    review_list.append(words)"
   ]
  },
  {
   "cell_type": "code",
   "execution_count": 10,
   "metadata": {},
   "outputs": [
    {
     "data": {
      "text/html": [
       "<div>\n",
       "<style scoped>\n",
       "    .dataframe tbody tr th:only-of-type {\n",
       "        vertical-align: middle;\n",
       "    }\n",
       "\n",
       "    .dataframe tbody tr th {\n",
       "        vertical-align: top;\n",
       "    }\n",
       "\n",
       "    .dataframe thead th {\n",
       "        text-align: right;\n",
       "    }\n",
       "</style>\n",
       "<table border=\"1\" class=\"dataframe\">\n",
       "  <thead>\n",
       "    <tr style=\"text-align: right;\">\n",
       "      <th></th>\n",
       "      <th>review_list</th>\n",
       "      <th>label</th>\n",
       "    </tr>\n",
       "  </thead>\n",
       "  <tbody>\n",
       "    <tr>\n",
       "      <th>0</th>\n",
       "      <td>way plug u unless go converter</td>\n",
       "      <td>0</td>\n",
       "    </tr>\n",
       "    <tr>\n",
       "      <th>1</th>\n",
       "      <td>good case excellent value</td>\n",
       "      <td>1</td>\n",
       "    </tr>\n",
       "    <tr>\n",
       "      <th>2</th>\n",
       "      <td>great jawbone</td>\n",
       "      <td>1</td>\n",
       "    </tr>\n",
       "    <tr>\n",
       "      <th>3</th>\n",
       "      <td>tied charger conversation lasting minute major problem</td>\n",
       "      <td>0</td>\n",
       "    </tr>\n",
       "    <tr>\n",
       "      <th>4</th>\n",
       "      <td>mic great</td>\n",
       "      <td>1</td>\n",
       "    </tr>\n",
       "  </tbody>\n",
       "</table>\n",
       "</div>"
      ],
      "text/plain": [
       "                                              review_list  label\n",
       "0                          way plug u unless go converter      0\n",
       "1                               good case excellent value      1\n",
       "2                                           great jawbone      1\n",
       "3  tied charger conversation lasting minute major problem      0\n",
       "4                                               mic great      1"
      ]
     },
     "execution_count": 10,
     "metadata": {},
     "output_type": "execute_result"
    }
   ],
   "source": [
    "# Add the review_list array from above to the existing datafram\n",
    "df['review_list']=review_list\n",
    "df.head()\n",
    "\n",
    "# Rearranging and dropping the review column.\n",
    "df = df[['review_list','label']]\n",
    "df.head()"
   ]
  },
  {
   "cell_type": "code",
   "execution_count": 11,
   "metadata": {},
   "outputs": [],
   "source": [
    "# Spliting the data\n",
    "X = df['review_list']\n",
    "y = df['label']\n",
    "X_train, X_test, y_train, y_test = train_test_split(X, y, test_size=0.2, random_state=20, stratify=y)"
   ]
  },
  {
   "cell_type": "code",
   "execution_count": 12,
   "metadata": {},
   "outputs": [],
   "source": [
    "# Setting variables\n",
    "vocab_size = 6000\n",
    "embedding_dim = 16\n",
    "max_length = 120\n",
    "trunc_type = 'post'\n",
    "oov_tok = '<OOV>'\n",
    "padding_type = 'post'"
   ]
  },
  {
   "cell_type": "markdown",
   "metadata": {},
   "source": [
    "#### 3. Explain the padding process."
   ]
  },
  {
   "cell_type": "markdown",
   "metadata": {},
   "source": [
    "Padding, much like tokenization, is a crucial step in the natural language processing framework. Padding adds zeros to the beginning and the end of sequences to ensure that they are all the same length. This is necessary for the neural network to be able to process the data.\n",
    "\n",
    "In this analysis, padding occurs after the text sequence. (Sucky, 2021)"
   ]
  },
  {
   "cell_type": "code",
   "execution_count": 13,
   "metadata": {},
   "outputs": [],
   "source": [
    "sequenced = tokenizer.texts_to_sequences(X_train)\n",
    "\n",
    "padded = pad_sequences(sequenced, maxlen = max_length, truncating=trunc_type)\n",
    "\n",
    "testing_reviews = tokenizer.texts_to_sequences(X_test)\n",
    "\n",
    "padded_testing_reviews = pad_sequences(testing_reviews, maxlen=max_length)"
   ]
  },
  {
   "cell_type": "code",
   "execution_count": 14,
   "metadata": {},
   "outputs": [
    {
     "data": {
      "text/plain": [
       "array([   0,    0,    0,    0,    0,    0,    0,    0,    0,    0,    0,\n",
       "          0,    0,    0,    0,    0,    0,    0,    0,    0,    0,    0,\n",
       "          0,    0,    0,    0,    0,    0,    0,    0,    0,    0,    0,\n",
       "          0,    0,    0,    0,    0,    0,    0,    0,    0,    0,    0,\n",
       "          0,    0,    0,    0,    0,    0,    0,    0,    0,    0,    0,\n",
       "          0,    0,    0,    0,    0,    0,    0,    0,    0,    0,    0,\n",
       "          0,    0,    0,    0,    0,    0,    0,    0,    0,    0,    0,\n",
       "          0,    0,    0,    0,    0,    0,    0,    0,    0,    0,    0,\n",
       "          0,    0,    0,    0,    0,    0,    0,    0,    0,    0,    0,\n",
       "          0,    0,    0,    0,    0,    0,    0,    0,    0,    0,    0,\n",
       "          0,    0,  305, 2144,  966, 3574, 1709,   37, 4579, 1447],\n",
       "      dtype=int32)"
      ]
     },
     "execution_count": 14,
     "metadata": {},
     "output_type": "execute_result"
    }
   ],
   "source": [
    "# Single Padded Sequence\n",
    "\n",
    "padded[1]"
   ]
  },
  {
   "cell_type": "markdown",
   "metadata": {},
   "source": [
    "#### 4. Identify how many categories of sentiment will be used."
   ]
  },
  {
   "cell_type": "markdown",
   "metadata": {},
   "source": [
    "Two categories of sentiment will be used in this analysis, positive and negative."
   ]
  },
  {
   "cell_type": "markdown",
   "metadata": {},
   "source": [
    "#### 5. Explain the steps used to prepare the data for analysis."
   ]
  },
  {
   "cell_type": "markdown",
   "metadata": {},
   "source": [
    "The steps to prepare the data for analysis are as follows:\n",
    "- Create dataframe from text files\n",
    "- Remove text that isn't words(emojis, numbers, etc)\n",
    "- Change case of entire string to lower case\n",
    "- Tokenize words\n",
    "- Remove stop words\n",
    "- Remove existing review column and replace with new tokenized review"
   ]
  },
  {
   "cell_type": "markdown",
   "metadata": {},
   "source": [
    "#### 6. Provide a copy of the cleaned data set."
   ]
  },
  {
   "cell_type": "code",
   "execution_count": 15,
   "metadata": {},
   "outputs": [],
   "source": [
    "df.to_csv('Cleaned_dataset.csv',index=False)"
   ]
  },
  {
   "cell_type": "markdown",
   "metadata": {},
   "source": [
    "### Part III: Network Architecture"
   ]
  },
  {
   "cell_type": "code",
   "execution_count": 16,
   "metadata": {},
   "outputs": [
    {
     "name": "stdout",
     "output_type": "stream",
     "text": [
      "Metal device set to: Apple M1\n",
      "\n",
      "systemMemory: 8.00 GB\n",
      "maxCacheSize: 2.67 GB\n",
      "\n",
      "Model: \"sequential\"\n",
      "_________________________________________________________________\n",
      " Layer (type)                Output Shape              Param #   \n",
      "=================================================================\n",
      " embedding (Embedding)       (None, 120, 16)           96000     \n",
      "                                                                 \n",
      " global_average_pooling1d (G  (None, 16)               0         \n",
      " lobalAveragePooling1D)                                          \n",
      "                                                                 \n",
      " dense (Dense)               (None, 6)                 102       \n",
      "                                                                 \n",
      " dense_1 (Dense)             (None, 1)                 7         \n",
      "                                                                 \n",
      "=================================================================\n",
      "Total params: 96,109\n",
      "Trainable params: 96,109\n",
      "Non-trainable params: 0\n",
      "_________________________________________________________________\n"
     ]
    },
    {
     "name": "stderr",
     "output_type": "stream",
     "text": [
      "2022-03-08 08:47:38.692794: I tensorflow/core/common_runtime/pluggable_device/pluggable_device_factory.cc:305] Could not identify NUMA node of platform GPU ID 0, defaulting to 0. Your kernel may not have been built with NUMA support.\n",
      "2022-03-08 08:47:38.693767: I tensorflow/core/common_runtime/pluggable_device/pluggable_device_factory.cc:271] Created TensorFlow device (/job:localhost/replica:0/task:0/device:GPU:0 with 0 MB memory) -> physical PluggableDevice (device: 0, name: METAL, pci bus id: <undefined>)\n"
     ]
    }
   ],
   "source": [
    "# Setting up the model\n",
    "\n",
    "model = keras.Sequential(\n",
    "    [\n",
    "        keras.layers.Embedding(vocab_size, embedding_dim, input_length=max_length),\n",
    "        keras.layers.GlobalAveragePooling1D(),\n",
    "        keras.layers.Dense(6, activation='relu'),\n",
    "        keras.layers.Dense(1, activation='sigmoid')\n",
    "    ]\n",
    ")\n",
    "\n",
    "model.compile(loss='binary_crossentropy',optimizer='adam', metrics=['accuracy'])\n",
    "\n",
    "model.summary()"
   ]
  },
  {
   "cell_type": "code",
   "execution_count": 17,
   "metadata": {},
   "outputs": [
    {
     "name": "stdout",
     "output_type": "stream",
     "text": [
      "Epoch 1/20\n"
     ]
    },
    {
     "name": "stderr",
     "output_type": "stream",
     "text": [
      "2022-03-08 08:47:40.494173: W tensorflow/core/platform/profile_utils/cpu_utils.cc:128] Failed to get CPU frequency: 0 Hz\n",
      "2022-03-08 08:47:40.793715: I tensorflow/core/grappler/optimizers/custom_graph_optimizer_registry.cc:113] Plugin optimizer for device_type GPU is enabled.\n"
     ]
    },
    {
     "name": "stdout",
     "output_type": "stream",
     "text": [
      "69/69 [==============================] - 2s 26ms/step - loss: 0.6932 - accuracy: 0.4950 - val_loss: 0.6928 - val_accuracy: 0.4964\n",
      "Epoch 2/20\n",
      " 1/69 [..............................] - ETA: 3s - loss: 0.6957 - accuracy: 0.3438"
     ]
    },
    {
     "name": "stderr",
     "output_type": "stream",
     "text": [
      "2022-03-08 08:47:42.625518: I tensorflow/core/grappler/optimizers/custom_graph_optimizer_registry.cc:113] Plugin optimizer for device_type GPU is enabled.\n"
     ]
    },
    {
     "name": "stdout",
     "output_type": "stream",
     "text": [
      "69/69 [==============================] - 1s 21ms/step - loss: 0.6923 - accuracy: 0.5200 - val_loss: 0.6923 - val_accuracy: 0.4964\n",
      "Epoch 3/20\n",
      "69/69 [==============================] - 1s 20ms/step - loss: 0.6910 - accuracy: 0.5423 - val_loss: 0.6918 - val_accuracy: 0.4964\n",
      "Epoch 4/20\n",
      "69/69 [==============================] - 1s 20ms/step - loss: 0.6897 - accuracy: 0.5532 - val_loss: 0.6902 - val_accuracy: 0.7473\n",
      "Epoch 5/20\n",
      "69/69 [==============================] - 1s 20ms/step - loss: 0.6867 - accuracy: 0.6115 - val_loss: 0.6873 - val_accuracy: 0.7273\n",
      "Epoch 6/20\n",
      "69/69 [==============================] - 1s 20ms/step - loss: 0.6791 - accuracy: 0.6724 - val_loss: 0.6817 - val_accuracy: 0.5982\n",
      "Epoch 7/20\n",
      "69/69 [==============================] - 1s 19ms/step - loss: 0.6679 - accuracy: 0.6742 - val_loss: 0.6739 - val_accuracy: 0.6236\n",
      "Epoch 8/20\n",
      "69/69 [==============================] - 1s 20ms/step - loss: 0.6522 - accuracy: 0.6961 - val_loss: 0.6650 - val_accuracy: 0.5800\n",
      "Epoch 9/20\n",
      "69/69 [==============================] - 1s 19ms/step - loss: 0.6312 - accuracy: 0.7134 - val_loss: 0.6516 - val_accuracy: 0.6836\n",
      "Epoch 10/20\n",
      "69/69 [==============================] - 1s 19ms/step - loss: 0.6083 - accuracy: 0.7753 - val_loss: 0.6449 - val_accuracy: 0.5855\n",
      "Epoch 11/20\n",
      "69/69 [==============================] - 1s 19ms/step - loss: 0.5826 - accuracy: 0.7762 - val_loss: 0.6233 - val_accuracy: 0.7600\n",
      "Epoch 12/20\n",
      "69/69 [==============================] - 1s 19ms/step - loss: 0.5501 - accuracy: 0.8203 - val_loss: 0.6089 - val_accuracy: 0.6873\n",
      "Epoch 13/20\n",
      "69/69 [==============================] - 1s 19ms/step - loss: 0.5221 - accuracy: 0.8271 - val_loss: 0.5935 - val_accuracy: 0.7091\n",
      "Epoch 14/20\n",
      "69/69 [==============================] - 1s 19ms/step - loss: 0.4858 - accuracy: 0.8726 - val_loss: 0.5739 - val_accuracy: 0.7673\n",
      "Epoch 15/20\n",
      "69/69 [==============================] - 1s 22ms/step - loss: 0.4574 - accuracy: 0.8867 - val_loss: 0.5610 - val_accuracy: 0.7636\n",
      "Epoch 16/20\n",
      "69/69 [==============================] - 1s 18ms/step - loss: 0.4304 - accuracy: 0.8940 - val_loss: 0.5493 - val_accuracy: 0.7673\n",
      "Epoch 17/20\n",
      "69/69 [==============================] - 1s 18ms/step - loss: 0.4045 - accuracy: 0.9072 - val_loss: 0.5375 - val_accuracy: 0.7727\n",
      "Epoch 18/20\n",
      "69/69 [==============================] - 1s 19ms/step - loss: 0.3831 - accuracy: 0.9195 - val_loss: 0.5359 - val_accuracy: 0.7636\n",
      "Epoch 19/20\n",
      "69/69 [==============================] - 1s 20ms/step - loss: 0.3615 - accuracy: 0.9217 - val_loss: 0.5230 - val_accuracy: 0.7782\n",
      "Epoch 20/20\n",
      "69/69 [==============================] - 1s 20ms/step - loss: 0.3436 - accuracy: 0.9345 - val_loss: 0.5383 - val_accuracy: 0.7527\n"
     ]
    }
   ],
   "source": [
    "early_stopping = EarlyStopping(\n",
    "    monitor='val_accuracy',\n",
    "    patience=8,\n",
    "    min_delta=0.001,\n",
    "    mode='max'\n",
    ")\n",
    "training_labels_final = np.array(y_train)\n",
    "testing_labels_final = np.array(y_test)\n",
    "\n",
    "num_epochs = 20\n",
    "\n",
    "history = model.fit(padded, training_labels_final, epochs=num_epochs, callbacks=[early_stopping] ,validation_data=(padded_testing_reviews, testing_labels_final))"
   ]
  },
  {
   "cell_type": "markdown",
   "metadata": {},
   "source": [
    "#### C. Describe the type of network used."
   ]
  },
  {
   "cell_type": "markdown",
   "metadata": {},
   "source": [
    "#### 1. Provide the output of the model summary of the fuction from TensorFlow"
   ]
  },
  {
   "cell_type": "code",
   "execution_count": 18,
   "metadata": {},
   "outputs": [
    {
     "name": "stdout",
     "output_type": "stream",
     "text": [
      "Model: \"sequential\"\n",
      "_________________________________________________________________\n",
      " Layer (type)                Output Shape              Param #   \n",
      "=================================================================\n",
      " embedding (Embedding)       (None, 120, 16)           96000     \n",
      "                                                                 \n",
      " global_average_pooling1d (G  (None, 16)               0         \n",
      " lobalAveragePooling1D)                                          \n",
      "                                                                 \n",
      " dense (Dense)               (None, 6)                 102       \n",
      "                                                                 \n",
      " dense_1 (Dense)             (None, 1)                 7         \n",
      "                                                                 \n",
      "=================================================================\n",
      "Total params: 96,109\n",
      "Trainable params: 96,109\n",
      "Non-trainable params: 0\n",
      "_________________________________________________________________\n"
     ]
    }
   ],
   "source": [
    "model.summary()"
   ]
  },
  {
   "cell_type": "markdown",
   "metadata": {},
   "source": [
    "#### 2. Discuss the number of layers, the types of layers, and total number of parameters."
   ]
  },
  {
   "cell_type": "markdown",
   "metadata": {},
   "source": [
    "The model uses 4 layers. The first layer is an embedding layer, the second is a Global Average Pooling layer, the third is the hidden layer, and the fourth is a dense layer using the Sigmoid activation function. In the embedding layer there are a total of 3 parameters being called out: Vocabulary Size, embedding dimensions, and input length. (Saxena, 2021)"
   ]
  },
  {
   "cell_type": "markdown",
   "metadata": {},
   "source": [
    "#### 3. Justify the choice of hyperparameters"
   ]
  },
  {
   "cell_type": "markdown",
   "metadata": {},
   "source": [
    "- Activation Functions\n",
    "The chosen activation fuctions used are the recitified linear unit and sigmoid fuctions. The relu function seems like a good fit for this problem, and since this is essentially a classification problem, the sigmoid function is a must.\n",
    "\n",
    "- Number of Nodes per layer\n",
    "In the hidden layer there are 6 nodes being used, while in the last layer only 1 node is used.\n",
    "\n",
    "- Loss function\n",
    "Binary Crossentropy is the loss function that was selected for this problem.\n",
    "\n",
    "- Optimizer\n",
    "Adam is the optimizer of choice for this analysis.\n",
    "\n",
    "- Stopping Criteria\n",
    "For the analysis we are using the validation accuracy as our variable to be watched. If no significant change occurs in 8 epochs the network will be stopped.\n",
    "\n",
    "- Evaluation Metric\n",
    "Accuracy has been chosen as the main evaluation metric. Accuracy is the most important type of evaluation when trying to determine sentiment, like this problem.\n",
    "\n",
    "(Sucky, 2021)"
   ]
  },
  {
   "cell_type": "markdown",
   "metadata": {},
   "source": [
    "### Part IV: Model Evaluation"
   ]
  },
  {
   "cell_type": "markdown",
   "metadata": {},
   "source": [
    "#### D. Evaluate the model training process and its outcomes."
   ]
  },
  {
   "cell_type": "markdown",
   "metadata": {},
   "source": [
    "#### 1. Discuss the impact of using stopping criteria instead of using epochs."
   ]
  },
  {
   "cell_type": "markdown",
   "metadata": {},
   "source": [
    "Early stopping, when used, prevents loss from increasing. When in turn, running epochs past a certain point will actually cause loss to increase. The ability to customize early stopping allows a researcher to hone settings that matter to them. In terms of this model, Validation accuracy is being monitored rather than loss. The model would stop if no discernible improvement was seen in 8 prior epochs. \n",
    "\n",
    "Another benefit to using early stopping is resource management, rather than allowing a model to continue to run, early stopping saves resources that would otherwise have been in use without a need. (Saxena, 2021)"
   ]
  },
  {
   "cell_type": "markdown",
   "metadata": {},
   "source": [
    "#### 2. Provide visulizations of the model's training process"
   ]
  },
  {
   "cell_type": "code",
   "execution_count": 19,
   "metadata": {},
   "outputs": [
    {
     "data": {
      "text/plain": [
       "<Figure size 432x288 with 0 Axes>"
      ]
     },
     "execution_count": 19,
     "metadata": {},
     "output_type": "execute_result"
    },
    {
     "data": {
      "image/png": "[encoded data removed]",
      "text/plain": [
       "<Figure size 432x288 with 1 Axes>"
      ]
     },
     "metadata": {
      "needs_background": "light"
     },
     "output_type": "display_data"
    },
    {
     "data": {
      "image/png": "[encoded data removed]",
      "text/plain": [
       "<Figure size 432x288 with 1 Axes>"
      ]
     },
     "metadata": {
      "needs_background": "light"
     },
     "output_type": "display_data"
    },
    {
     "data": {
      "text/plain": [
       "<Figure size 432x288 with 0 Axes>"
      ]
     },
     "metadata": {},
     "output_type": "display_data"
    }
   ],
   "source": [
    "acc = history.history['accuracy']\n",
    "val_acc = history.history['val_accuracy']\n",
    "loss = history.history['loss']\n",
    "val_loss = history.history['val_loss']\n",
    "\n",
    "epochs = range(len(acc))\n",
    "\n",
    "plt.plot(epochs, acc, 'r', 'Training Accuracy')\n",
    "plt.plot(epochs, val_acc, 'b', 'Valadation Accuracy')\n",
    "plt.title(\"Training vs Valadation Accuracy\")\n",
    "plt.figure()\n",
    "\n",
    "plt.plot(epochs, loss, 'r', 'Training Loss')\n",
    "plt.plot(epochs, val_loss, 'b', 'Valadation Loss')\n",
    "plt.title(\"Training vs Valadation Loss\")\n",
    "plt.figure()"
   ]
  },
  {
   "cell_type": "markdown",
   "metadata": {},
   "source": [
    "#### 3. Assess the fitness of the model"
   ]
  },
  {
   "cell_type": "code",
   "execution_count": 20,
   "metadata": {},
   "outputs": [
    {
     "name": "stdout",
     "output_type": "stream",
     "text": [
      "Test loss: 0.538329541683197/ Test accuracy: 0.7527272701263428\n"
     ]
    }
   ],
   "source": [
    "score = model.evaluate(padded_testing_reviews,testing_labels_final, verbose=0)\n",
    "print(f'Test loss: {score[0]}/ Test accuracy: {score[1]}')"
   ]
  },
  {
   "cell_type": "markdown",
   "metadata": {},
   "source": [
    "#### 4. Discuss the predictive accuracy of the trained network."
   ]
  },
  {
   "cell_type": "code",
   "execution_count": 21,
   "metadata": {},
   "outputs": [],
   "source": [
    "model.save('NLP_Analysis_Model.h5')\n",
    "\n",
    "my_model = load_model('NLP_Analysis_Model.h5')"
   ]
  },
  {
   "cell_type": "code",
   "execution_count": 22,
   "metadata": {},
   "outputs": [
    {
     "name": "stderr",
     "output_type": "stream",
     "text": [
      "2022-03-08 08:48:53.060941: I tensorflow/core/grappler/optimizers/custom_graph_optimizer_registry.cc:113] Plugin optimizer for device_type GPU is enabled.\n"
     ]
    }
   ],
   "source": [
    "predictions = my_model.predict(padded_testing_reviews)"
   ]
  },
  {
   "cell_type": "code",
   "execution_count": 23,
   "metadata": {},
   "outputs": [
    {
     "name": "stdout",
     "output_type": "stream",
     "text": [
      "Predicted review test:  much pasta love homemade hand made pasta thin pizza \n",
      "\n",
      "Predicted: Positive review\n",
      "Actual:  Positive review\n"
     ]
    }
   ],
   "source": [
    "i=510\n",
    "\n",
    "print(\"Predicted review test: \", X_test[i], \"\\n\")\n",
    "print(\"Predicted:\", \"Negative\" if predictions[i][0] >= 0.5 else \"Positive\", \"review\")\n",
    "print(\"Actual: \",\"Negative\" if y_test[i] == 0 else \"Positive\", \"review\")"
   ]
  },
  {
   "cell_type": "markdown",
   "metadata": {},
   "source": [
    "The model has an accuracy of .76. This translates to the model being roughly 76% accurate. Overall the model is accurate enough, with room for improvement. "
   ]
  },
  {
   "cell_type": "markdown",
   "metadata": {},
   "source": [
    "### Part V: Summary and Recommendations"
   ]
  },
  {
   "cell_type": "markdown",
   "metadata": {},
   "source": [
    "#### E. Code"
   ]
  },
  {
   "cell_type": "markdown",
   "metadata": {},
   "source": [
    "The code was created using Jupyter notebooks and utilized Python 3.8.12"
   ]
  },
  {
   "cell_type": "markdown",
   "metadata": {},
   "source": [
    "#### F. Discuss the fuctionality of the neural network, including impact of network architecture."
   ]
  },
  {
   "cell_type": "markdown",
   "metadata": {},
   "source": [
    "The neural network featured in this analysis is highly fuctional and customizable. Tensorflow and Keras feature the ability to fine tune models through the use of layer structure, epochs, early stopping, and a variety of other variables. \n",
    "\n",
    "The way neural networks are structure allow them to be highly customizable and flexible in terms of problems they can solve. This problem is no different. The way this network has been structured can change and impact accuracy as a whole."
   ]
  },
  {
   "cell_type": "markdown",
   "metadata": {},
   "source": [
    "#### G. Recommend a course of action"
   ]
  },
  {
   "cell_type": "markdown",
   "metadata": {},
   "source": [
    "An appropriate course of action at this time would be to continue to fine tune the model to achieve higher accuracy. With a more accurate model the company could then begin using it to reach out to customers with negative sentiments to try and remedy the problems they experienced. "
   ]
  },
  {
   "cell_type": "markdown",
   "metadata": {},
   "source": [
    "### Part VI: Reporting"
   ]
  },
  {
   "cell_type": "markdown",
   "metadata": {},
   "source": [
    "### I. Third Party Code"
   ]
  },
  {
   "cell_type": "markdown",
   "metadata": {},
   "source": [
    "Dr. Festus Elleh - Webex Meeting - Sunday, Feb. 27, 2022\n",
    "\n",
    "\n",
    "Sucky, R. N. (2021, July 8). A complete step by step tutorial on sentiment analysis in Keras and tensorflow. Medium. Retrieved March 1, 2022, from https://towardsdatascience.com/a-complete-step-by-step-tutorial-on-sentiment-analysis-in-keras-and-tensorflow-ea420cc8913f \n",
    "\n",
    "Team, K. (n.d.). Keras Documentation: The sequential class. Keras. Retrieved March 3, 2022, from https://keras.io/api/models/sequential/ "
   ]
  },
  {
   "cell_type": "markdown",
   "metadata": {},
   "source": [
    "### J. References"
   ]
  },
  {
   "cell_type": "markdown",
   "metadata": {},
   "source": [
    "Saxena, S. (2021, February 6). Understanding embedding layer in Keras. Medium. Retrieved March 8, 2022, from https://medium.com/analytics-vidhya/understanding-embedding-layer-in-keras-bbe3ff1327ce \n",
    "\n",
    "Sucky, R. N. (2021, July 8). A complete step by step tutorial on sentiment analysis in Keras and tensorflow. Medium. Retrieved March 1, 2022, from https://towardsdatascience.com/a-complete-step-by-step-tutorial-on-sentiment-analysis-in-keras-and-tensorflow-ea420cc8913f "
   ]
  },
  {
   "cell_type": "markdown",
   "metadata": {},
   "source": []
  }
 ],
 "metadata": {
  "interpreter": {
   "hash": "c6e4e9f98eb68ad3b7c296f83d20e6de614cb42e90992a65aa266555a3137d0d"
  },
  "kernelspec": {
   "display_name": "Python 3.9.7 64-bit ('base': conda)",
   "language": "python",
   "name": "python3"
  },
  "language_info": {
   "codemirror_mode": {
    "name": "ipython",
    "version": 3
   },
   "file_extension": ".py",
   "mimetype": "text/x-python",
   "name": "python",
   "nbconvert_exporter": "python",
   "pygments_lexer": "ipython3",
   "version": "3.8.12"
  },
  "orig_nbformat": 4
 },
 "nbformat": 4,
 "nbformat_minor": 2
}