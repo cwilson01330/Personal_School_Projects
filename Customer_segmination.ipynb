{
 "cells": [
  {
   "cell_type": "markdown",
   "id": "1a00c042-14d8-4922-866f-5ff8fe43dc27",
   "metadata": {},
   "source": [
    "# Task I - Cory Wilson"
   ]
  },
  {
   "cell_type": "markdown",
   "id": "fc1c6d98",
   "metadata": {
    "pycharm": {
     "name": "#%% md\n"
    }
   },
   "source": [
    "### Initial Imports and Dataframe creation"
   ]
  },
  {
   "cell_type": "code",
   "execution_count": 1,
   "id": "930f8ba2",
   "metadata": {
    "pycharm": {
     "name": "#%%\n"
    }
   },
   "outputs": [],
   "source": [
    "### Importing required packages\n",
    "import numpy as np\n",
    "import pandas as pd\n",
    "from sklearn.cluster import KMeans\n",
    "import matplotlib.pyplot as plt\n",
    "import seaborn as sns\n",
    "from sklearn.preprocessing import StandardScaler\n",
    "from yellowbrick.cluster import KElbowVisualizer\n",
    "pd.options.display.float_format = '{:.5f}'.format\n",
    "pd.options.display.max_columns = None\n",
    "\n",
    "### Creating initial data set from the Churn CSV\n",
    "data = pd.read_csv('churn_clean.csv')"
   ]
  },
  {
   "cell_type": "markdown",
   "id": "83bea652-b199-465b-a59c-c608d36fe702",
   "metadata": {},
   "source": [
    "## Part I"
   ]
  },
  {
   "cell_type": "markdown",
   "id": "bd55ec0f-06f8-4ac2-aa18-1fd54c8786a3",
   "metadata": {},
   "source": [
    "### A. 1."
   ]
  },
  {
   "cell_type": "markdown",
   "id": "7ef9c437-9071-4d59-829e-16ad683e5772",
   "metadata": {},
   "source": [
    "Can customers be segmented in a way that will allow the company to make better decisions?"
   ]
  },
  {
   "cell_type": "markdown",
   "id": "8875fce3-827c-46c1-a482-cc6e7188b831",
   "metadata": {},
   "source": [
    "### A. 2."
   ]
  },
  {
   "cell_type": "markdown",
   "id": "a5a00db4-61c5-4531-b20b-b0349cc1f576",
   "metadata": {},
   "source": [
    "The main goal of this analysis is to establish different grouping or segments of our current and former subscribers."
   ]
  },
  {
   "cell_type": "markdown",
   "id": "ebfc8d0a-de96-4499-b38e-deeffbed0bce",
   "metadata": {},
   "source": [
    "## Part II"
   ]
  },
  {
   "cell_type": "markdown",
   "id": "8ade323a-d593-4a05-99c3-7ef42cb786b5",
   "metadata": {},
   "source": [
    "### B. 1."
   ]
  },
  {
   "cell_type": "markdown",
   "id": "19745d4b-159a-428a-a515-e0fe2e2f8b51",
   "metadata": {},
   "source": [
    "The k-Means algorithm works by initially segregating data into groups based on the k variable. K will determine the number of groups or clusters. k-Means is also an iterative algorithm. This means that iterations of the algorithm are ran until it feels the most accurate clusters have been found.\n",
    "\n",
    "k-Means works by initially assigning data points to clusters then creating centroids, which are simply the mean of all the data in a given cluster. The number of centroids the model uses is the same as the value of k. The algorithm then runs again, but the centroids move and means are recalculated. This process runs until the centroids stabilize. (Söder, 2008)"
   ]
  },
  {
   "cell_type": "markdown",
   "id": "d33cf78e-be6e-47c7-b849-353bac686906",
   "metadata": {},
   "source": [
    "### B. 2."
   ]
  },
  {
   "cell_type": "markdown",
   "id": "e2f7949f-ad53-492a-a867-3221d65b645f",
   "metadata": {},
   "source": [
    "One main assumption of k-Means clustering is that the data must be spherical in nature. This allows the algorithm to correctly select the clusters more accurately. Graphed spherical shaped data is easier for KMeans to create clusters, but as David Robinson points out in his piece on KMeans clustering, even if the data isn't spherical in nature, not all hope is lost. (Robinson, 2015)"
   ]
  },
  {
   "cell_type": "markdown",
   "id": "0d05c11d-dd92-4471-acf6-73f49ff0aeaf",
   "metadata": {},
   "source": [
    "### B. 3. "
   ]
  },
  {
   "cell_type": "markdown",
   "id": "6b38298c-ba47-46bc-be39-da7c1086d06a",
   "metadata": {},
   "source": [
    "Packages used:\n",
    "- Pandas - Pandas allows a wide varitey of data analytics processes, it is the main library used to import files such as csv's into a format that Python can easily handle. It is also crucial in the creation of additional dataframes.\n",
    "- SkLearn - SKlearn has a multitude of uses from being the home of the algorithm we will be using, to spliting our data into training and test sets, to also giving us our metrics that will be used to judge how well the model performed.\n",
    "- Yellowbrick - Yellowbrick is used to easily create elbow diagrams.\n"
   ]
  },
  {
   "cell_type": "markdown",
   "id": "ca3acbfe-2abe-403e-9619-173aa7f7ab9c",
   "metadata": {},
   "source": [
    "## Part III"
   ]
  },
  {
   "cell_type": "markdown",
   "id": "16e63f14-d182-4c8a-8005-13c574b5a92e",
   "metadata": {},
   "source": [
    "### C. 1."
   ]
  },
  {
   "cell_type": "markdown",
   "id": "6ce8c210-ab2c-41f6-a22a-980687180e24",
   "metadata": {},
   "source": [
    "One of the major things that must be done is unnessesary columns must be dropped. K-Means cannot use categorical or binary data must be dropped. This is accomplished by using the .drop() method of the pandas package."
   ]
  },
  {
   "cell_type": "markdown",
   "id": "2f2cdeeb-a0f0-40b0-a3fb-64f0f7838902",
   "metadata": {},
   "source": [
    "### C. 2."
   ]
  },
  {
   "cell_type": "markdown",
   "id": "1fb4b8c8-5892-4051-a2e5-f18bacdcf6b2",
   "metadata": {
    "pycharm": {
     "name": "#%% md\n"
    }
   },
   "source": [
    "The features that will be included are as follows:\n",
    "- Children - Continuous\n",
    "- Age - Continuous\n",
    "- Income - Continuous\n",
    "- Outage_sec_perweek - Continuous\n",
    "- Email - Continuous\n",
    "- Contacts - Continuous\n",
    "- Yearly_equip_failure - Continuous\n",
    "- Tenure - Continuous\n",
    "- MonthlyCharge - Continuous\n",
    "- Bandwidth_GB_Year - Continuous\n",
    "\n",
    "These variables are selected due to their type of data. Binary and categorical data cannot be used in a K-Means algorithm, the majority of columns in this data set fall into this category. The continuous nature of these variables will work within the bounds of K-Means data requirements. These variables will provide our model with a wide swath of data to help create clusters."
   ]
  },
  {
   "cell_type": "markdown",
   "id": "5ede9300-4289-48ea-8d50-801b837f13bd",
   "metadata": {},
   "source": [
    "### C. 3."
   ]
  },
  {
   "cell_type": "markdown",
   "id": "f9b24a68",
   "metadata": {
    "pycharm": {
     "name": "#%% md\n"
    }
   },
   "source": [
    "The code block presented below does a few things. The first thing it accomplishes is dropping columns that aren't necessary to this analysis. The newly created dataframe is then presented. "
   ]
  },
  {
   "cell_type": "code",
   "execution_count": 2,
   "id": "a0e75000-c98b-4d1b-a1eb-748b3afdbb67",
   "metadata": {},
   "outputs": [
    {
     "data": {
      "text/html": [
       "<div>\n",
       "<style scoped>\n",
       "    .dataframe tbody tr th:only-of-type {\n",
       "        vertical-align: middle;\n",
       "    }\n",
       "\n",
       "    .dataframe tbody tr th {\n",
       "        vertical-align: top;\n",
       "    }\n",
       "\n",
       "    .dataframe thead th {\n",
       "        text-align: right;\n",
       "    }\n",
       "</style>\n",
       "<table border=\"1\" class=\"dataframe\">\n",
       "  <thead>\n",
       "    <tr style=\"text-align: right;\">\n",
       "      <th></th>\n",
       "      <th>Children</th>\n",
       "      <th>Age</th>\n",
       "      <th>Income</th>\n",
       "      <th>Outage_sec_perweek</th>\n",
       "      <th>Email</th>\n",
       "      <th>Contacts</th>\n",
       "      <th>Yearly_equip_failure</th>\n",
       "      <th>Tenure</th>\n",
       "      <th>MonthlyCharge</th>\n",
       "      <th>Bandwidth_GB_Year</th>\n",
       "    </tr>\n",
       "  </thead>\n",
       "  <tbody>\n",
       "    <tr>\n",
       "      <th>0</th>\n",
       "      <td>0</td>\n",
       "      <td>68</td>\n",
       "      <td>28561.99000</td>\n",
       "      <td>7.97832</td>\n",
       "      <td>10</td>\n",
       "      <td>0</td>\n",
       "      <td>1</td>\n",
       "      <td>6.79551</td>\n",
       "      <td>172.45552</td>\n",
       "      <td>904.53611</td>\n",
       "    </tr>\n",
       "    <tr>\n",
       "      <th>1</th>\n",
       "      <td>1</td>\n",
       "      <td>27</td>\n",
       "      <td>21704.77000</td>\n",
       "      <td>11.69908</td>\n",
       "      <td>12</td>\n",
       "      <td>0</td>\n",
       "      <td>1</td>\n",
       "      <td>1.15668</td>\n",
       "      <td>242.63255</td>\n",
       "      <td>800.98277</td>\n",
       "    </tr>\n",
       "    <tr>\n",
       "      <th>2</th>\n",
       "      <td>4</td>\n",
       "      <td>50</td>\n",
       "      <td>9609.57000</td>\n",
       "      <td>10.75280</td>\n",
       "      <td>9</td>\n",
       "      <td>0</td>\n",
       "      <td>1</td>\n",
       "      <td>15.75414</td>\n",
       "      <td>159.94758</td>\n",
       "      <td>2054.70696</td>\n",
       "    </tr>\n",
       "    <tr>\n",
       "      <th>3</th>\n",
       "      <td>1</td>\n",
       "      <td>48</td>\n",
       "      <td>18925.23000</td>\n",
       "      <td>14.91354</td>\n",
       "      <td>15</td>\n",
       "      <td>2</td>\n",
       "      <td>0</td>\n",
       "      <td>17.08723</td>\n",
       "      <td>119.95684</td>\n",
       "      <td>2164.57941</td>\n",
       "    </tr>\n",
       "    <tr>\n",
       "      <th>4</th>\n",
       "      <td>0</td>\n",
       "      <td>83</td>\n",
       "      <td>40074.19000</td>\n",
       "      <td>8.14742</td>\n",
       "      <td>16</td>\n",
       "      <td>2</td>\n",
       "      <td>1</td>\n",
       "      <td>1.67097</td>\n",
       "      <td>149.94832</td>\n",
       "      <td>271.49344</td>\n",
       "    </tr>\n",
       "    <tr>\n",
       "      <th>...</th>\n",
       "      <td>...</td>\n",
       "      <td>...</td>\n",
       "      <td>...</td>\n",
       "      <td>...</td>\n",
       "      <td>...</td>\n",
       "      <td>...</td>\n",
       "      <td>...</td>\n",
       "      <td>...</td>\n",
       "      <td>...</td>\n",
       "      <td>...</td>\n",
       "    </tr>\n",
       "    <tr>\n",
       "      <th>9995</th>\n",
       "      <td>3</td>\n",
       "      <td>23</td>\n",
       "      <td>55723.74000</td>\n",
       "      <td>9.41593</td>\n",
       "      <td>12</td>\n",
       "      <td>2</td>\n",
       "      <td>0</td>\n",
       "      <td>68.19713</td>\n",
       "      <td>159.97940</td>\n",
       "      <td>6511.25260</td>\n",
       "    </tr>\n",
       "    <tr>\n",
       "      <th>9996</th>\n",
       "      <td>4</td>\n",
       "      <td>48</td>\n",
       "      <td>34129.34000</td>\n",
       "      <td>6.74055</td>\n",
       "      <td>15</td>\n",
       "      <td>2</td>\n",
       "      <td>0</td>\n",
       "      <td>61.04037</td>\n",
       "      <td>207.48110</td>\n",
       "      <td>5695.95181</td>\n",
       "    </tr>\n",
       "    <tr>\n",
       "      <th>9997</th>\n",
       "      <td>1</td>\n",
       "      <td>48</td>\n",
       "      <td>45983.43000</td>\n",
       "      <td>6.59091</td>\n",
       "      <td>10</td>\n",
       "      <td>0</td>\n",
       "      <td>0</td>\n",
       "      <td>47.41689</td>\n",
       "      <td>169.97410</td>\n",
       "      <td>4159.30580</td>\n",
       "    </tr>\n",
       "    <tr>\n",
       "      <th>9998</th>\n",
       "      <td>1</td>\n",
       "      <td>39</td>\n",
       "      <td>16667.58000</td>\n",
       "      <td>12.07191</td>\n",
       "      <td>14</td>\n",
       "      <td>1</td>\n",
       "      <td>0</td>\n",
       "      <td>71.09560</td>\n",
       "      <td>252.62400</td>\n",
       "      <td>6468.45675</td>\n",
       "    </tr>\n",
       "    <tr>\n",
       "      <th>9999</th>\n",
       "      <td>1</td>\n",
       "      <td>28</td>\n",
       "      <td>9020.92000</td>\n",
       "      <td>11.75472</td>\n",
       "      <td>17</td>\n",
       "      <td>1</td>\n",
       "      <td>0</td>\n",
       "      <td>63.35086</td>\n",
       "      <td>217.48400</td>\n",
       "      <td>5857.58617</td>\n",
       "    </tr>\n",
       "  </tbody>\n",
       "</table>\n",
       "<p>10000 rows × 10 columns</p>\n",
       "</div>"
      ],
      "text/plain": [
       "      Children  Age      Income  Outage_sec_perweek  Email  Contacts  \\\n",
       "0            0   68 28561.99000             7.97832     10         0   \n",
       "1            1   27 21704.77000            11.69908     12         0   \n",
       "2            4   50  9609.57000            10.75280      9         0   \n",
       "3            1   48 18925.23000            14.91354     15         2   \n",
       "4            0   83 40074.19000             8.14742     16         2   \n",
       "...        ...  ...         ...                 ...    ...       ...   \n",
       "9995         3   23 55723.74000             9.41593     12         2   \n",
       "9996         4   48 34129.34000             6.74055     15         2   \n",
       "9997         1   48 45983.43000             6.59091     10         0   \n",
       "9998         1   39 16667.58000            12.07191     14         1   \n",
       "9999         1   28  9020.92000            11.75472     17         1   \n",
       "\n",
       "      Yearly_equip_failure   Tenure  MonthlyCharge  Bandwidth_GB_Year  \n",
       "0                        1  6.79551      172.45552          904.53611  \n",
       "1                        1  1.15668      242.63255          800.98277  \n",
       "2                        1 15.75414      159.94758         2054.70696  \n",
       "3                        0 17.08723      119.95684         2164.57941  \n",
       "4                        1  1.67097      149.94832          271.49344  \n",
       "...                    ...      ...            ...                ...  \n",
       "9995                     0 68.19713      159.97940         6511.25260  \n",
       "9996                     0 61.04037      207.48110         5695.95181  \n",
       "9997                     0 47.41689      169.97410         4159.30580  \n",
       "9998                     0 71.09560      252.62400         6468.45675  \n",
       "9999                     0 63.35086      217.48400         5857.58617  \n",
       "\n",
       "[10000 rows x 10 columns]"
      ]
     },
     "execution_count": 2,
     "metadata": {},
     "output_type": "execute_result"
    }
   ],
   "source": [
    "### Dropping columns that aren't required for clustering\n",
    "clean_data = data.drop(columns=['CaseOrder','Customer_id',\n",
    "                                'Interaction','Churn','UID','Population',\n",
    "                                'Zip','Job','City','Lat','Lng','State',\n",
    "                                'County','TimeZone','item1','item2',\n",
    "                                'item3','item4','item5','item6','item7',\n",
    "                                'item8','Area','Marital','Gender',\n",
    "                                'Techie','Contract','Port_modem',\n",
    "                                'Tablet','InternetService','Phone',\n",
    "                                'Multiple','OnlineSecurity',\n",
    "                                'OnlineBackup','DeviceProtection',\n",
    "                                'TechSupport','StreamingTV',\n",
    "                                'StreamingMovies','PaperlessBilling',\n",
    "                                'PaymentMethod'])\n",
    "\n",
    "### Printing the cleaned data set to ensure proper formatting\n",
    "clean_data"
   ]
  },
  {
   "cell_type": "markdown",
   "id": "f5aac252-673e-4bb9-bee6-890e4313dc5c",
   "metadata": {},
   "source": [
    "### C. 4."
   ]
  },
  {
   "cell_type": "markdown",
   "id": "ab09a173",
   "metadata": {
    "pycharm": {
     "name": "#%% md\n"
    }
   },
   "source": [
    "The code below creates a clean_data CSV file, which will be submitted with the project."
   ]
  },
  {
   "cell_type": "code",
   "execution_count": 3,
   "id": "c000c528-df0c-4102-8d10-e7fe7acd8e20",
   "metadata": {},
   "outputs": [],
   "source": [
    "clean_data.to_csv('D212 Task 1 Clean Data.csv')"
   ]
  },
  {
   "cell_type": "markdown",
   "id": "60ee8daf-bebd-4e52-93c5-0d18e8737e6e",
   "metadata": {},
   "source": [
    "## Part IV"
   ]
  },
  {
   "cell_type": "markdown",
   "id": "80d969c8-86af-437a-a7e1-1f96dab01c0f",
   "metadata": {},
   "source": [
    "### D. 1."
   ]
  },
  {
   "cell_type": "markdown",
   "id": "bd364ac8-b8a1-41f3-b643-d5a7da454a83",
   "metadata": {
    "pycharm": {
     "name": "#%% md\n"
    }
   },
   "source": [
    "The code block listed in Section D. 2. is the block where the KMeans clustering takes place. The first section creates a new dataframe with original data to add the clusters the algorithm picks. This section is also where the data is scaled.\n",
    "\n",
    "The second section uses Yellowbrick to create an elbow plot to assist with the selection of k.\n",
    "\n",
    "The third section is where KMeans clustering takes place and the cluster chosen for each row is added in new column. The cleaned_data dataframe is also printed for verification in this section."
   ]
  },
  {
   "cell_type": "markdown",
   "id": "9a53402e-f9ff-4d44-bb25-80f1d447750c",
   "metadata": {},
   "source": [
    "### D. 2."
   ]
  },
  {
   "cell_type": "code",
   "execution_count": 4,
   "id": "632b9560-2649-4276-ad14-5d16cb5bdecc",
   "metadata": {},
   "outputs": [],
   "source": [
    "### Creating a new dataframe to store the KMeans results with the original non-scaled data\n",
    "features = list(clean_data.columns)\n",
    "cleaned_data = clean_data[features]\n",
    "\n",
    "### Creating a scaler object and scaling the data to make it more uniformed\n",
    "scaler = StandardScaler()\n",
    "scaled_data = scaler.fit_transform(clean_data)\n",
    "\n"
   ]
  },
  {
   "cell_type": "code",
   "execution_count": 5,
   "id": "504d98a6",
   "metadata": {},
   "outputs": [
    {
     "data": {
      "image/png": "[encoded data removed]",
      "text/plain": [
       "<Figure size 576x396 with 2 Axes>"
      ]
     },
     "metadata": {},
     "output_type": "display_data"
    },
    {
     "data": {
      "text/plain": [
       "<AxesSubplot:title={'center':'Distortion Score Elbow for KMeans Clustering'}, xlabel='k', ylabel='distortion score'>"
      ]
     },
     "execution_count": 5,
     "metadata": {},
     "output_type": "execute_result"
    }
   ],
   "source": [
    "### Using Yellowbrick to quickly create an elbow plot to fit the optimum value for k\n",
    "model = KMeans()\n",
    "visual = KElbowVisualizer(model, k=(1, 20))\n",
    "visual.fit(scaled_data)\n",
    "visual.show()\n"
   ]
  },
  {
   "cell_type": "code",
   "execution_count": 6,
   "id": "ffc2ec70",
   "metadata": {},
   "outputs": [
    {
     "data": {
      "text/html": [
       "<div>\n",
       "<style scoped>\n",
       "    .dataframe tbody tr th:only-of-type {\n",
       "        vertical-align: middle;\n",
       "    }\n",
       "\n",
       "    .dataframe tbody tr th {\n",
       "        vertical-align: top;\n",
       "    }\n",
       "\n",
       "    .dataframe thead th {\n",
       "        text-align: right;\n",
       "    }\n",
       "</style>\n",
       "<table border=\"1\" class=\"dataframe\">\n",
       "  <thead>\n",
       "    <tr style=\"text-align: right;\">\n",
       "      <th></th>\n",
       "      <th>Children</th>\n",
       "      <th>Age</th>\n",
       "      <th>Income</th>\n",
       "      <th>Outage_sec_perweek</th>\n",
       "      <th>Email</th>\n",
       "      <th>Contacts</th>\n",
       "      <th>Yearly_equip_failure</th>\n",
       "      <th>Tenure</th>\n",
       "      <th>MonthlyCharge</th>\n",
       "      <th>Bandwidth_GB_Year</th>\n",
       "      <th>clusters</th>\n",
       "    </tr>\n",
       "  </thead>\n",
       "  <tbody>\n",
       "    <tr>\n",
       "      <th>0</th>\n",
       "      <td>0</td>\n",
       "      <td>68</td>\n",
       "      <td>28561.99000</td>\n",
       "      <td>7.97832</td>\n",
       "      <td>10</td>\n",
       "      <td>0</td>\n",
       "      <td>1</td>\n",
       "      <td>6.79551</td>\n",
       "      <td>172.45552</td>\n",
       "      <td>904.53611</td>\n",
       "      <td>0</td>\n",
       "    </tr>\n",
       "    <tr>\n",
       "      <th>1</th>\n",
       "      <td>1</td>\n",
       "      <td>27</td>\n",
       "      <td>21704.77000</td>\n",
       "      <td>11.69908</td>\n",
       "      <td>12</td>\n",
       "      <td>0</td>\n",
       "      <td>1</td>\n",
       "      <td>1.15668</td>\n",
       "      <td>242.63255</td>\n",
       "      <td>800.98277</td>\n",
       "      <td>0</td>\n",
       "    </tr>\n",
       "    <tr>\n",
       "      <th>2</th>\n",
       "      <td>4</td>\n",
       "      <td>50</td>\n",
       "      <td>9609.57000</td>\n",
       "      <td>10.75280</td>\n",
       "      <td>9</td>\n",
       "      <td>0</td>\n",
       "      <td>1</td>\n",
       "      <td>15.75414</td>\n",
       "      <td>159.94758</td>\n",
       "      <td>2054.70696</td>\n",
       "      <td>0</td>\n",
       "    </tr>\n",
       "    <tr>\n",
       "      <th>3</th>\n",
       "      <td>1</td>\n",
       "      <td>48</td>\n",
       "      <td>18925.23000</td>\n",
       "      <td>14.91354</td>\n",
       "      <td>15</td>\n",
       "      <td>2</td>\n",
       "      <td>0</td>\n",
       "      <td>17.08723</td>\n",
       "      <td>119.95684</td>\n",
       "      <td>2164.57941</td>\n",
       "      <td>2</td>\n",
       "    </tr>\n",
       "    <tr>\n",
       "      <th>4</th>\n",
       "      <td>0</td>\n",
       "      <td>83</td>\n",
       "      <td>40074.19000</td>\n",
       "      <td>8.14742</td>\n",
       "      <td>16</td>\n",
       "      <td>2</td>\n",
       "      <td>1</td>\n",
       "      <td>1.67097</td>\n",
       "      <td>149.94832</td>\n",
       "      <td>271.49344</td>\n",
       "      <td>0</td>\n",
       "    </tr>\n",
       "    <tr>\n",
       "      <th>...</th>\n",
       "      <td>...</td>\n",
       "      <td>...</td>\n",
       "      <td>...</td>\n",
       "      <td>...</td>\n",
       "      <td>...</td>\n",
       "      <td>...</td>\n",
       "      <td>...</td>\n",
       "      <td>...</td>\n",
       "      <td>...</td>\n",
       "      <td>...</td>\n",
       "      <td>...</td>\n",
       "    </tr>\n",
       "    <tr>\n",
       "      <th>9995</th>\n",
       "      <td>3</td>\n",
       "      <td>23</td>\n",
       "      <td>55723.74000</td>\n",
       "      <td>9.41593</td>\n",
       "      <td>12</td>\n",
       "      <td>2</td>\n",
       "      <td>0</td>\n",
       "      <td>68.19713</td>\n",
       "      <td>159.97940</td>\n",
       "      <td>6511.25260</td>\n",
       "      <td>1</td>\n",
       "    </tr>\n",
       "    <tr>\n",
       "      <th>9996</th>\n",
       "      <td>4</td>\n",
       "      <td>48</td>\n",
       "      <td>34129.34000</td>\n",
       "      <td>6.74055</td>\n",
       "      <td>15</td>\n",
       "      <td>2</td>\n",
       "      <td>0</td>\n",
       "      <td>61.04037</td>\n",
       "      <td>207.48110</td>\n",
       "      <td>5695.95181</td>\n",
       "      <td>1</td>\n",
       "    </tr>\n",
       "    <tr>\n",
       "      <th>9997</th>\n",
       "      <td>1</td>\n",
       "      <td>48</td>\n",
       "      <td>45983.43000</td>\n",
       "      <td>6.59091</td>\n",
       "      <td>10</td>\n",
       "      <td>0</td>\n",
       "      <td>0</td>\n",
       "      <td>47.41689</td>\n",
       "      <td>169.97410</td>\n",
       "      <td>4159.30580</td>\n",
       "      <td>1</td>\n",
       "    </tr>\n",
       "    <tr>\n",
       "      <th>9998</th>\n",
       "      <td>1</td>\n",
       "      <td>39</td>\n",
       "      <td>16667.58000</td>\n",
       "      <td>12.07191</td>\n",
       "      <td>14</td>\n",
       "      <td>1</td>\n",
       "      <td>0</td>\n",
       "      <td>71.09560</td>\n",
       "      <td>252.62400</td>\n",
       "      <td>6468.45675</td>\n",
       "      <td>1</td>\n",
       "    </tr>\n",
       "    <tr>\n",
       "      <th>9999</th>\n",
       "      <td>1</td>\n",
       "      <td>28</td>\n",
       "      <td>9020.92000</td>\n",
       "      <td>11.75472</td>\n",
       "      <td>17</td>\n",
       "      <td>1</td>\n",
       "      <td>0</td>\n",
       "      <td>63.35086</td>\n",
       "      <td>217.48400</td>\n",
       "      <td>5857.58617</td>\n",
       "      <td>1</td>\n",
       "    </tr>\n",
       "  </tbody>\n",
       "</table>\n",
       "<p>10000 rows × 11 columns</p>\n",
       "</div>"
      ],
      "text/plain": [
       "      Children  Age      Income  Outage_sec_perweek  Email  Contacts  \\\n",
       "0            0   68 28561.99000             7.97832     10         0   \n",
       "1            1   27 21704.77000            11.69908     12         0   \n",
       "2            4   50  9609.57000            10.75280      9         0   \n",
       "3            1   48 18925.23000            14.91354     15         2   \n",
       "4            0   83 40074.19000             8.14742     16         2   \n",
       "...        ...  ...         ...                 ...    ...       ...   \n",
       "9995         3   23 55723.74000             9.41593     12         2   \n",
       "9996         4   48 34129.34000             6.74055     15         2   \n",
       "9997         1   48 45983.43000             6.59091     10         0   \n",
       "9998         1   39 16667.58000            12.07191     14         1   \n",
       "9999         1   28  9020.92000            11.75472     17         1   \n",
       "\n",
       "      Yearly_equip_failure   Tenure  MonthlyCharge  Bandwidth_GB_Year  \\\n",
       "0                        1  6.79551      172.45552          904.53611   \n",
       "1                        1  1.15668      242.63255          800.98277   \n",
       "2                        1 15.75414      159.94758         2054.70696   \n",
       "3                        0 17.08723      119.95684         2164.57941   \n",
       "4                        1  1.67097      149.94832          271.49344   \n",
       "...                    ...      ...            ...                ...   \n",
       "9995                     0 68.19713      159.97940         6511.25260   \n",
       "9996                     0 61.04037      207.48110         5695.95181   \n",
       "9997                     0 47.41689      169.97410         4159.30580   \n",
       "9998                     0 71.09560      252.62400         6468.45675   \n",
       "9999                     0 63.35086      217.48400         5857.58617   \n",
       "\n",
       "      clusters  \n",
       "0            0  \n",
       "1            0  \n",
       "2            0  \n",
       "3            2  \n",
       "4            0  \n",
       "...        ...  \n",
       "9995         1  \n",
       "9996         1  \n",
       "9997         1  \n",
       "9998         1  \n",
       "9999         1  \n",
       "\n",
       "[10000 rows x 11 columns]"
      ]
     },
     "execution_count": 6,
     "metadata": {},
     "output_type": "execute_result"
    }
   ],
   "source": [
    "### Performing the KMeans clustering process and affixing the clusters to the cleaned_data dataframe\n",
    "clusters = KMeans(n_clusters=6)\n",
    "cleaned_data['clusters'] = clusters.fit_predict(scaled_data)\n",
    "\n",
    "### Printing the dataframe to ensure clusters were affixed correctly\n",
    "cleaned_data"
   ]
  },
  {
   "cell_type": "markdown",
   "id": "2a4cbf24-8074-41cd-89dd-e5a9ab71545f",
   "metadata": {},
   "source": [
    "## Part V"
   ]
  },
  {
   "cell_type": "markdown",
   "id": "9eb24857-016c-4ed3-a5a8-322405566047",
   "metadata": {},
   "source": [
    "### E. 1."
   ]
  },
  {
   "cell_type": "markdown",
   "id": "c1e180a8-42b5-4646-b89c-07dd0cd71adc",
   "metadata": {
    "pycharm": {
     "name": "#%% md\n"
    }
   },
   "source": [
    "The use of a clustering algorithm doesn't not return accuracy in a true sense. While accuracy can be returned, in this instance, it isn't viable data. The data points aren't clustered before clustering occurs, thus, giving nothing to compare it to."
   ]
  },
  {
   "cell_type": "markdown",
   "id": "6a832af6-e7c6-4305-82ed-9d905107b168",
   "metadata": {},
   "source": [
    "### E. 2."
   ]
  },
  {
   "cell_type": "markdown",
   "id": "6ef41c1d-3252-43e8-80e1-90ccf0c31526",
   "metadata": {
    "pycharm": {
     "name": "#%% md\n"
    }
   },
   "source": [
    "Using KMeans we were able to find that our data set can be divided into 6 different clusters. These clusters are based on our variety of available data. The implications of this analysis could prove to be important, this gives the company 6 distinct groups to target with a different offers, sales, or promotions that will feel more customized to them. While clustering provides a deeper understanding of the data, without a more thorough investigation into the clusters and what they actually represent, you have just that, clusters."
   ]
  },
  {
   "cell_type": "markdown",
   "id": "b57ac3d7-d0ff-44d9-8310-a5a712251dea",
   "metadata": {},
   "source": [
    "### E. 3."
   ]
  },
  {
   "cell_type": "markdown",
   "id": "f290c37a-e64a-4807-a3ab-ca22da62d413",
   "metadata": {
    "pycharm": {
     "name": "#%% md\n"
    }
   },
   "source": [
    "One limitation that makes this data set hard to work with is the shear number of features. Without using some form of dimensional reduction the set is hard to handle, and it also makes using KMeans harder as well. Being able to apply dimensional reduction to this set would possibly return better, more clear results."
   ]
  },
  {
   "cell_type": "markdown",
   "id": "e9db469c-8d34-4bf5-b93d-eed694c39720",
   "metadata": {},
   "source": [
    "### E. 4."
   ]
  },
  {
   "cell_type": "markdown",
   "id": "0647e9f8-9a71-45a3-baaf-74ee0392c737",
   "metadata": {
    "pycharm": {
     "name": "#%% md\n"
    }
   },
   "source": [
    "The best course of action moving forward would be applying some form of dimensional reduction, then analyzing the data for different segments using the resulting data set. The company could make more sense of the data with only a handful of features rather than the entire set of fifty features."
   ]
  },
  {
   "cell_type": "markdown",
   "id": "2deeb065",
   "metadata": {
    "pycharm": {
     "name": "#%% md\n"
    }
   },
   "source": [
    "### Part VI"
   ]
  },
  {
   "cell_type": "markdown",
   "id": "e7272a2e",
   "metadata": {
    "pycharm": {
     "name": "#%% md\n"
    }
   },
   "source": [
    "### H: References"
   ]
  },
  {
   "cell_type": "markdown",
   "id": "49a21cae",
   "metadata": {
    "pycharm": {
     "name": "#%% md\n"
    }
   },
   "source": [
    "Robinson, D. (2015, January 15). K-means clustering is not a free lunch. Variance Explained. Retrieved October 1, 2021, from http://varianceexplained.org/r/kmeans-free-lunch/.\n",
    "\n",
    "Söder, O. (2008, May 29). k-means clustering 1. How does k-means clustering work? K-means clustering 1. how does K-means clustering work? Retrieved October 1, 2021, from https://www.fon.hum.uva.nl/praat/manual/k-means_clustering_1__How_does_k-means_clustering_work_.html.\n",
    "\n",
    "### Coding Resources Used\n",
    "\n",
    "https://scikit-learn.org/stable/modules/generated/sklearn.cluster.KMeans.html\n",
    "\n",
    "https://www.scikit-yb.org/en/latest/api/cluster/elbow.html"
   ]
  }
 ],
 "metadata": {
  "kernelspec": {
   "display_name": "Python 3 (ipykernel)",
   "language": "python",
   "name": "python3"
  },
  "language_info": {
   "codemirror_mode": {
    "name": "ipython",
    "version": 3
   },
   "file_extension": ".py",
   "mimetype": "text/x-python",
   "name": "python",
   "nbconvert_exporter": "python",
   "pygments_lexer": "ipython3",
   "version": "3.9.5"
  }
 },
 "nbformat": 4,
 "nbformat_minor": 5
}