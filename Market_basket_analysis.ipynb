{
 "cells": [
  {
   "cell_type": "markdown",
   "id": "bfc51b9b",
   "metadata": {},
   "source": [
    "## Task 3 - Cory Wilson"
   ]
  },
  {
   "cell_type": "code",
   "execution_count": 14,
   "id": "2fb16c14",
   "metadata": {},
   "outputs": [],
   "source": [
    "# Initial Import and Dataframe creation\n",
    "\n",
    "import pandas as pd\n",
    "import numpy as np\n",
    "from mlxtend.preprocessing import TransactionEncoder\n",
    "import pandas as pd\n",
    "from mlxtend.frequent_patterns import apriori, association_rules\n",
    "from itertools import permutations\n",
    "pd.options.display.float_format = '{:.5f}'.format\n",
    "pd.options.display.max_columns = None\n",
    "\n",
    "data = pd.read_csv('teleco_market_basket.csv')"
   ]
  },
  {
   "cell_type": "markdown",
   "id": "cec17800",
   "metadata": {},
   "source": [
    "### Part I"
   ]
  },
  {
   "cell_type": "markdown",
   "id": "1ea89aa6",
   "metadata": {},
   "source": [
    "### A. 1."
   ]
  },
  {
   "cell_type": "markdown",
   "id": "f038d898",
   "metadata": {},
   "source": [
    "What items drive sales of other items? Answering this question would allow the company to better plan promotional deals and improve the suggested products."
   ]
  },
  {
   "cell_type": "markdown",
   "id": "c5ad1491",
   "metadata": {},
   "source": [
    "### A. 2."
   ]
  },
  {
   "cell_type": "markdown",
   "id": "741aa17e",
   "metadata": {},
   "source": [
    "The main goal of this analysis is to find groupings of items that sell well together to help management make better decisions."
   ]
  },
  {
   "cell_type": "markdown",
   "id": "c2886f3c",
   "metadata": {},
   "source": [
    "### Part II"
   ]
  },
  {
   "cell_type": "markdown",
   "id": "e79dd0ec",
   "metadata": {},
   "source": [
    "### B. 1."
   ]
  },
  {
   "cell_type": "markdown",
   "id": "a7d28738",
   "metadata": {},
   "source": [
    "Market Basket Analysis uses data sets to try and find associations between products. The Apriori algorithm is normally used in Market Basket Analysis to add in the process.   \n",
    "\n",
    "Once a data set is cleaned and prepared for the analysis, using the Apriori algorithm will return a set of rules with a large amount of information about each rule. A rule can be simply explained by an example, Apple -> Banana. The rule would read if someone buys an apple, they are likely to buy a banana as well. The algorithm also computes confidence, support, and lift for each rule that is returned."
   ]
  },
  {
   "cell_type": "markdown",
   "id": "e5107e42",
   "metadata": {},
   "source": [
    "### B. 2."
   ]
  },
  {
   "cell_type": "markdown",
   "id": "95d56b05",
   "metadata": {},
   "source": [
    "The block below shows one transaction from the data set."
   ]
  },
  {
   "cell_type": "code",
   "execution_count": 15,
   "id": "fa7ca5ea",
   "metadata": {
    "scrolled": true
   },
   "outputs": [
    {
     "data": {
      "text/plain": [
       "Item01               Logitech M510 Wireless mouse\n",
       "Item02                                  HP 63 Ink\n",
       "Item03                                  HP 65 ink\n",
       "Item04                 nonda USB C to USB Adapter\n",
       "Item05                  10ft iPHone Charger Cable\n",
       "Item06                               HP 902XL ink\n",
       "Item07               Creative Pebble 2.0 Speakers\n",
       "Item08        Cleaning Gel Universal Dust Cleaner\n",
       "Item09              Micro Center 32GB Memory card\n",
       "Item10    YUNSONG 3pack 6ft Nylon Lightning Cable\n",
       "Item11               TopMate C5 Laptop Cooler pad\n",
       "Item12                  Apple USB-C Charger cable\n",
       "Item13               HyperX Cloud Stinger Headset\n",
       "Item14                TONOR USB Gaming Microphone\n",
       "Item15             Dust-Off Compressed Gas 2 pack\n",
       "Item16             3A USB Type C Cable 3 pack 6FT\n",
       "Item17                      HOVAMP iPhone charger\n",
       "Item18                   SanDisk Ultra 128GB card\n",
       "Item19       FEEL2NICE 5 pack 10ft Lighning cable\n",
       "Item20        FEIYOLD Blue light Blocking Glasses\n",
       "Name: 1, dtype: object"
      ]
     },
     "execution_count": 15,
     "metadata": {},
     "output_type": "execute_result"
    }
   ],
   "source": [
    "data.iloc[1]"
   ]
  },
  {
   "cell_type": "markdown",
   "id": "456b33b3",
   "metadata": {},
   "source": [
    "### B. 3"
   ]
  },
  {
   "cell_type": "markdown",
   "id": "6777961a",
   "metadata": {},
   "source": [
    "Market Basket Analysis doesn't hold the normal assumptions most algorithms have. The data doesn't have to have a linear relationship and normality isn't a concern. One of the assumptions that can be found through working a Market Basket problem is that the data once cleaned must be binary in nature. This allows the algorithm see if something was either purchased or it wasn't."
   ]
  },
  {
   "cell_type": "markdown",
   "id": "f036329d",
   "metadata": {},
   "source": [
    "### Part III"
   ]
  },
  {
   "cell_type": "markdown",
   "id": "b19dba9b",
   "metadata": {},
   "source": [
    "### C. 1."
   ]
  },
  {
   "cell_type": "markdown",
   "id": "2e8a7c5b",
   "metadata": {},
   "source": [
    "This block takes the original dataframe, converts it into a list of lists, then uses the Transaction encoder from mlxtend to encode the data. That data is then turned back into a dataframe that the Apriori algorithm can use. In this block we are also saving our cleaned data set for submission as well."
   ]
  },
  {
   "cell_type": "code",
   "execution_count": 16,
   "id": "2b7661f4",
   "metadata": {},
   "outputs": [],
   "source": [
    "#converting dataframe into list of lists\n",
    "l=[]\n",
    "for i in range(0,len(data)):\n",
    "    l.append([str(data.values[i,j]) for j in range(0,20)])\n",
    "    \n",
    "flat = [item for l in l for item in l]\n",
    "items = list(set(flat))\n",
    "\n",
    "encoder = TransactionEncoder().fit(l)\n",
    "onehot = encoder.transform(l)\n",
    "onehot = pd.DataFrame(onehot, columns=encoder.columns_).drop('nan', axis=1)\n",
    "\n",
    "onehot.to_csv('Task 3 Cleaned Set.csv')"
   ]
  },
  {
   "cell_type": "markdown",
   "id": "a7270655",
   "metadata": {},
   "source": [
    "### C. 2."
   ]
  },
  {
   "cell_type": "markdown",
   "id": "8e06f252",
   "metadata": {},
   "source": [
    "The code below uses the Apriori algorithm on the cleaned and encoded data set. It then generates our association rules and sorts them."
   ]
  },
  {
   "cell_type": "code",
   "execution_count": 17,
   "id": "ab1ef2ab",
   "metadata": {},
   "outputs": [],
   "source": [
    "frq = apriori(onehot,min_support=0.02, use_colnames=True)\n",
    "rules = association_rules(frq, metric='lift')\n",
    "rules.sort_values('confidence', ascending = False, inplace = True)"
   ]
  },
  {
   "cell_type": "markdown",
   "id": "972c5493",
   "metadata": {},
   "source": [
    "### C. 3."
   ]
  },
  {
   "cell_type": "markdown",
   "id": "d7d5e115",
   "metadata": {},
   "source": [
    "The code block below prints the association rule table with support, confidence, and lift displayed."
   ]
  },
  {
   "cell_type": "code",
   "execution_count": 18,
   "id": "2f895eee",
   "metadata": {},
   "outputs": [
    {
     "data": {
      "text/html": [
       "<div>\n",
       "<style scoped>\n",
       "    .dataframe tbody tr th:only-of-type {\n",
       "        vertical-align: middle;\n",
       "    }\n",
       "\n",
       "    .dataframe tbody tr th {\n",
       "        vertical-align: top;\n",
       "    }\n",
       "\n",
       "    .dataframe thead th {\n",
       "        text-align: right;\n",
       "    }\n",
       "</style>\n",
       "<table border=\"1\" class=\"dataframe\">\n",
       "  <thead>\n",
       "    <tr style=\"text-align: right;\">\n",
       "      <th></th>\n",
       "      <th>antecedents</th>\n",
       "      <th>consequents</th>\n",
       "      <th>antecedent support</th>\n",
       "      <th>consequent support</th>\n",
       "      <th>support</th>\n",
       "      <th>confidence</th>\n",
       "      <th>lift</th>\n",
       "      <th>leverage</th>\n",
       "      <th>conviction</th>\n",
       "    </tr>\n",
       "  </thead>\n",
       "  <tbody>\n",
       "    <tr>\n",
       "      <th>5</th>\n",
       "      <td>(SanDisk Ultra 64GB card)</td>\n",
       "      <td>(Dust-Off Compressed Gas 2 pack)</td>\n",
       "      <td>0.04913</td>\n",
       "      <td>0.11918</td>\n",
       "      <td>0.02046</td>\n",
       "      <td>0.41655</td>\n",
       "      <td>3.49504</td>\n",
       "      <td>0.01461</td>\n",
       "      <td>1.50968</td>\n",
       "    </tr>\n",
       "    <tr>\n",
       "      <th>7</th>\n",
       "      <td>(Screen Mom Screen Cleaner kit)</td>\n",
       "      <td>(Dust-Off Compressed Gas 2 pack)</td>\n",
       "      <td>0.06479</td>\n",
       "      <td>0.11918</td>\n",
       "      <td>0.02400</td>\n",
       "      <td>0.37037</td>\n",
       "      <td>3.10755</td>\n",
       "      <td>0.01627</td>\n",
       "      <td>1.39894</td>\n",
       "    </tr>\n",
       "    <tr>\n",
       "      <th>9</th>\n",
       "      <td>(VIVO Dual LCD Monitor Desk mount)</td>\n",
       "      <td>(Dust-Off Compressed Gas 2 pack)</td>\n",
       "      <td>0.08706</td>\n",
       "      <td>0.11918</td>\n",
       "      <td>0.02986</td>\n",
       "      <td>0.34303</td>\n",
       "      <td>2.87817</td>\n",
       "      <td>0.01949</td>\n",
       "      <td>1.34073</td>\n",
       "    </tr>\n",
       "    <tr>\n",
       "      <th>3</th>\n",
       "      <td>(HP 61 ink)</td>\n",
       "      <td>(Dust-Off Compressed Gas 2 pack)</td>\n",
       "      <td>0.08192</td>\n",
       "      <td>0.11918</td>\n",
       "      <td>0.02633</td>\n",
       "      <td>0.32140</td>\n",
       "      <td>2.69666</td>\n",
       "      <td>0.01657</td>\n",
       "      <td>1.29799</td>\n",
       "    </tr>\n",
       "    <tr>\n",
       "      <th>1</th>\n",
       "      <td>(Apple Pencil)</td>\n",
       "      <td>(Dust-Off Compressed Gas 2 pack)</td>\n",
       "      <td>0.08985</td>\n",
       "      <td>0.11918</td>\n",
       "      <td>0.02546</td>\n",
       "      <td>0.28338</td>\n",
       "      <td>2.37769</td>\n",
       "      <td>0.01475</td>\n",
       "      <td>1.22913</td>\n",
       "    </tr>\n",
       "    <tr>\n",
       "      <th>8</th>\n",
       "      <td>(Dust-Off Compressed Gas 2 pack)</td>\n",
       "      <td>(VIVO Dual LCD Monitor Desk mount)</td>\n",
       "      <td>0.11918</td>\n",
       "      <td>0.08706</td>\n",
       "      <td>0.02986</td>\n",
       "      <td>0.25056</td>\n",
       "      <td>2.87817</td>\n",
       "      <td>0.01949</td>\n",
       "      <td>1.21817</td>\n",
       "    </tr>\n",
       "    <tr>\n",
       "      <th>2</th>\n",
       "      <td>(Dust-Off Compressed Gas 2 pack)</td>\n",
       "      <td>(HP 61 ink)</td>\n",
       "      <td>0.11918</td>\n",
       "      <td>0.08192</td>\n",
       "      <td>0.02633</td>\n",
       "      <td>0.22092</td>\n",
       "      <td>2.69666</td>\n",
       "      <td>0.01657</td>\n",
       "      <td>1.17841</td>\n",
       "    </tr>\n",
       "    <tr>\n",
       "      <th>0</th>\n",
       "      <td>(Dust-Off Compressed Gas 2 pack)</td>\n",
       "      <td>(Apple Pencil)</td>\n",
       "      <td>0.11918</td>\n",
       "      <td>0.08985</td>\n",
       "      <td>0.02546</td>\n",
       "      <td>0.21365</td>\n",
       "      <td>2.37769</td>\n",
       "      <td>0.01475</td>\n",
       "      <td>1.15743</td>\n",
       "    </tr>\n",
       "    <tr>\n",
       "      <th>6</th>\n",
       "      <td>(Dust-Off Compressed Gas 2 pack)</td>\n",
       "      <td>(Screen Mom Screen Cleaner kit)</td>\n",
       "      <td>0.11918</td>\n",
       "      <td>0.06479</td>\n",
       "      <td>0.02400</td>\n",
       "      <td>0.20134</td>\n",
       "      <td>3.10755</td>\n",
       "      <td>0.01627</td>\n",
       "      <td>1.17098</td>\n",
       "    </tr>\n",
       "    <tr>\n",
       "      <th>4</th>\n",
       "      <td>(Dust-Off Compressed Gas 2 pack)</td>\n",
       "      <td>(SanDisk Ultra 64GB card)</td>\n",
       "      <td>0.11918</td>\n",
       "      <td>0.04913</td>\n",
       "      <td>0.02046</td>\n",
       "      <td>0.17170</td>\n",
       "      <td>3.49504</td>\n",
       "      <td>0.01461</td>\n",
       "      <td>1.14798</td>\n",
       "    </tr>\n",
       "  </tbody>\n",
       "</table>\n",
       "</div>"
      ],
      "text/plain": [
       "                          antecedents                         consequents  \\\n",
       "5           (SanDisk Ultra 64GB card)    (Dust-Off Compressed Gas 2 pack)   \n",
       "7     (Screen Mom Screen Cleaner kit)    (Dust-Off Compressed Gas 2 pack)   \n",
       "9  (VIVO Dual LCD Monitor Desk mount)    (Dust-Off Compressed Gas 2 pack)   \n",
       "3                         (HP 61 ink)    (Dust-Off Compressed Gas 2 pack)   \n",
       "1                      (Apple Pencil)    (Dust-Off Compressed Gas 2 pack)   \n",
       "8    (Dust-Off Compressed Gas 2 pack)  (VIVO Dual LCD Monitor Desk mount)   \n",
       "2    (Dust-Off Compressed Gas 2 pack)                         (HP 61 ink)   \n",
       "0    (Dust-Off Compressed Gas 2 pack)                      (Apple Pencil)   \n",
       "6    (Dust-Off Compressed Gas 2 pack)     (Screen Mom Screen Cleaner kit)   \n",
       "4    (Dust-Off Compressed Gas 2 pack)           (SanDisk Ultra 64GB card)   \n",
       "\n",
       "   antecedent support  consequent support  support  confidence    lift  \\\n",
       "5             0.04913             0.11918  0.02046     0.41655 3.49504   \n",
       "7             0.06479             0.11918  0.02400     0.37037 3.10755   \n",
       "9             0.08706             0.11918  0.02986     0.34303 2.87817   \n",
       "3             0.08192             0.11918  0.02633     0.32140 2.69666   \n",
       "1             0.08985             0.11918  0.02546     0.28338 2.37769   \n",
       "8             0.11918             0.08706  0.02986     0.25056 2.87817   \n",
       "2             0.11918             0.08192  0.02633     0.22092 2.69666   \n",
       "0             0.11918             0.08985  0.02546     0.21365 2.37769   \n",
       "6             0.11918             0.06479  0.02400     0.20134 3.10755   \n",
       "4             0.11918             0.04913  0.02046     0.17170 3.49504   \n",
       "\n",
       "   leverage  conviction  \n",
       "5   0.01461     1.50968  \n",
       "7   0.01627     1.39894  \n",
       "9   0.01949     1.34073  \n",
       "3   0.01657     1.29799  \n",
       "1   0.01475     1.22913  \n",
       "8   0.01949     1.21817  \n",
       "2   0.01657     1.17841  \n",
       "0   0.01475     1.15743  \n",
       "6   0.01627     1.17098  \n",
       "4   0.01461     1.14798  "
      ]
     },
     "execution_count": 18,
     "metadata": {},
     "output_type": "execute_result"
    }
   ],
   "source": [
    "rules"
   ]
  },
  {
   "cell_type": "markdown",
   "id": "3e54fd8a",
   "metadata": {},
   "source": [
    "### C. 4."
   ]
  },
  {
   "cell_type": "code",
   "execution_count": 19,
   "id": "4b51cf15",
   "metadata": {},
   "outputs": [
    {
     "data": {
      "text/html": [
       "<div>\n",
       "<style scoped>\n",
       "    .dataframe tbody tr th:only-of-type {\n",
       "        vertical-align: middle;\n",
       "    }\n",
       "\n",
       "    .dataframe tbody tr th {\n",
       "        vertical-align: top;\n",
       "    }\n",
       "\n",
       "    .dataframe thead th {\n",
       "        text-align: right;\n",
       "    }\n",
       "</style>\n",
       "<table border=\"1\" class=\"dataframe\">\n",
       "  <thead>\n",
       "    <tr style=\"text-align: right;\">\n",
       "      <th></th>\n",
       "      <th>antecedents</th>\n",
       "      <th>consequents</th>\n",
       "      <th>antecedent support</th>\n",
       "      <th>consequent support</th>\n",
       "      <th>support</th>\n",
       "      <th>confidence</th>\n",
       "      <th>lift</th>\n",
       "      <th>leverage</th>\n",
       "      <th>conviction</th>\n",
       "    </tr>\n",
       "  </thead>\n",
       "  <tbody>\n",
       "    <tr>\n",
       "      <th>5</th>\n",
       "      <td>(SanDisk Ultra 64GB card)</td>\n",
       "      <td>(Dust-Off Compressed Gas 2 pack)</td>\n",
       "      <td>0.04913</td>\n",
       "      <td>0.11918</td>\n",
       "      <td>0.02046</td>\n",
       "      <td>0.41655</td>\n",
       "      <td>3.49504</td>\n",
       "      <td>0.01461</td>\n",
       "      <td>1.50968</td>\n",
       "    </tr>\n",
       "    <tr>\n",
       "      <th>7</th>\n",
       "      <td>(Screen Mom Screen Cleaner kit)</td>\n",
       "      <td>(Dust-Off Compressed Gas 2 pack)</td>\n",
       "      <td>0.06479</td>\n",
       "      <td>0.11918</td>\n",
       "      <td>0.02400</td>\n",
       "      <td>0.37037</td>\n",
       "      <td>3.10755</td>\n",
       "      <td>0.01627</td>\n",
       "      <td>1.39894</td>\n",
       "    </tr>\n",
       "    <tr>\n",
       "      <th>9</th>\n",
       "      <td>(VIVO Dual LCD Monitor Desk mount)</td>\n",
       "      <td>(Dust-Off Compressed Gas 2 pack)</td>\n",
       "      <td>0.08706</td>\n",
       "      <td>0.11918</td>\n",
       "      <td>0.02986</td>\n",
       "      <td>0.34303</td>\n",
       "      <td>2.87817</td>\n",
       "      <td>0.01949</td>\n",
       "      <td>1.34073</td>\n",
       "    </tr>\n",
       "  </tbody>\n",
       "</table>\n",
       "</div>"
      ],
      "text/plain": [
       "                          antecedents                       consequents  \\\n",
       "5           (SanDisk Ultra 64GB card)  (Dust-Off Compressed Gas 2 pack)   \n",
       "7     (Screen Mom Screen Cleaner kit)  (Dust-Off Compressed Gas 2 pack)   \n",
       "9  (VIVO Dual LCD Monitor Desk mount)  (Dust-Off Compressed Gas 2 pack)   \n",
       "\n",
       "   antecedent support  consequent support  support  confidence    lift  \\\n",
       "5             0.04913             0.11918  0.02046     0.41655 3.49504   \n",
       "7             0.06479             0.11918  0.02400     0.37037 3.10755   \n",
       "9             0.08706             0.11918  0.02986     0.34303 2.87817   \n",
       "\n",
       "   leverage  conviction  \n",
       "5   0.01461     1.50968  \n",
       "7   0.01627     1.39894  \n",
       "9   0.01949     1.34073  "
      ]
     },
     "execution_count": 19,
     "metadata": {},
     "output_type": "execute_result"
    }
   ],
   "source": [
    "rules[:3]"
   ]
  },
  {
   "cell_type": "markdown",
   "id": "17fd8a67",
   "metadata": {},
   "source": [
    "### Part IV"
   ]
  },
  {
   "cell_type": "markdown",
   "id": "effbfc47",
   "metadata": {},
   "source": [
    "### D. 1."
   ]
  },
  {
   "cell_type": "markdown",
   "id": "fcccf21a",
   "metadata": {},
   "source": [
    "The three metrics used to gauge association rules are support, confidence, and lift. When looking at the top 3 rules above as sorted by the highest confidence, we can also see that these three have high lift values as well. The support for these rules are on the lower end of the spectrum.\n",
    "\n",
    "Support can be summarized as the percentage of transactions that will have both the antecedent and consequesnt in them. As we can see with the rules above, the highest support value is 0.02986 or in other words, both the entire itemset appears together in about 3% of transactions.\n",
    "\n",
    "Confidence can be summarized as the probability of a transaction containing the antecedent as well as the consequent. For example with our top rule, it can be said that about 42% of transactions that contain SanDisk Ultra 64GB card also have Dust-Off Compressed Gas 2 pack in them.\n",
    "\n",
    "Lift can be summarized as the ratio of confidence to expected confidence. A lift of less than 1 means that there is a negative correlation between items, a lift greater than one shows that a stronger association exists. For our example with the top 3 rules, the top rule also has the highest lift. That lift is 3.495 which is much greater than 1 meaning a strong association exists between our two items. (solver, 2016)"
   ]
  },
  {
   "cell_type": "markdown",
   "id": "72866ae3",
   "metadata": {},
   "source": [
    "### D. 2."
   ]
  },
  {
   "cell_type": "markdown",
   "id": "7b1c8b94",
   "metadata": {},
   "source": [
    "We can see from the rules that associations between products do exist. Quite a few of those rules have high confidence and lift values, which tend to show that the they are frequently bought together. The analysis goes on to show the company that bundles could be formed to offer greater savings to customers and potentially more sales for the company. While many rules have a lower support, even rules only occuring in 2% of all transactions can be viewed as popular when you have large amounts of transaction."
   ]
  },
  {
   "cell_type": "markdown",
   "id": "03e8dc3b",
   "metadata": {},
   "source": [
    "### D. 3."
   ]
  },
  {
   "cell_type": "markdown",
   "id": "cb405c84",
   "metadata": {},
   "source": [
    "The company should spend some time looking at rules and the products they include, to see where the greatest profit margains exist. This would allow them to be more flexible on the price and potential increase sales. These rules could also be used to generate \"Frequently Bought Together\" displays that could drive interest in those products. "
   ]
  },
  {
   "cell_type": "markdown",
   "id": "21964d67",
   "metadata": {},
   "source": [
    "### Part V"
   ]
  },
  {
   "cell_type": "markdown",
   "id": "d80d6d82",
   "metadata": {},
   "source": [
    "### G."
   ]
  },
  {
   "cell_type": "markdown",
   "id": "0ec27239",
   "metadata": {},
   "source": [
    "### References"
   ]
  },
  {
   "cell_type": "markdown",
   "id": "287dac43",
   "metadata": {},
   "source": [
    "Association rules. solver. (2016, January 14). Retrieved October 23, 2021, from https://www.solver.com/xlminer/help/association-rules.  \n",
    "\n",
    "McColl, L. (2018, May 31). Market basket analysis: Understanding customer behaviour. Select Statistical Consultants. Retrieved October 24, 2021, from https://select-statistics.co.uk/blog/market-basket-analysis-understanding-customer-behaviour/. "
   ]
  }
 ],
 "metadata": {
  "kernelspec": {
   "display_name": "Python 3 (ipykernel)",
   "language": "python",
   "name": "python3"
  },
  "language_info": {
   "codemirror_mode": {
    "name": "ipython",
    "version": 3
   },
   "file_extension": ".py",
   "mimetype": "text/x-python",
   "name": "python",
   "nbconvert_exporter": "python",
   "pygments_lexer": "ipython3",
   "version": "3.9.5"
  }
 },
 "nbformat": 4,
 "nbformat_minor": 5
}